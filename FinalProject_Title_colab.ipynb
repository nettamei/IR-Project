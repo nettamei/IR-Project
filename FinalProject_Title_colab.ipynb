{
  "cells": [
    {
      "cell_type": "code",
      "execution_count": null,
      "metadata": {
        "id": "byNgReCYsmA9",
        "colab": {
          "base_uri": "https://localhost:8080/"
        },
        "outputId": "109ad427-6f8d-47fa-e5d5-d137581cccf5"
      },
      "outputs": [
        {
          "output_type": "stream",
          "name": "stderr",
          "text": [
            "[nltk_data] Downloading package stopwords to /root/nltk_data...\n",
            "[nltk_data]   Unzipping corpora/stopwords.zip.\n"
          ]
        }
      ],
      "source": [
        "import sys\n",
        "from collections import Counter, OrderedDict\n",
        "import itertools\n",
        "from itertools import islice, count, groupby\n",
        "import pandas as pd\n",
        "import os\n",
        "import re\n",
        "from operator import itemgetter\n",
        "import nltk\n",
        "from nltk.stem.porter import *\n",
        "from nltk.corpus import stopwords\n",
        "from time import time\n",
        "from timeit import timeit\n",
        "from pathlib import Path\n",
        "import pickle\n",
        "import pandas as pd\n",
        "import numpy as np\n",
        "from google.cloud import storage\n",
        "\n",
        "import hashlib\n",
        "def _hash(s):\n",
        "    return hashlib.blake2b(bytes(s, encoding='utf8'), digest_size=5).hexdigest()\n",
        "\n",
        "nltk.download('stopwords')\n",
        "\n",
        "from inverted_index_colab import *"
      ]
    },
    {
      "cell_type": "code",
      "execution_count": null,
      "metadata": {
        "colab": {
          "base_uri": "https://localhost:8080/"
        },
        "id": "kw33QgujFQez",
        "outputId": "8f8c1e8a-babe-49ee-ebc0-9c5174017478"
      },
      "outputs": [
        {
          "output_type": "stream",
          "name": "stdout",
          "text": [
            "\u001b[2K     \u001b[90m━━━━━━━━━━━━━━━━━━━━━━━━━━━━━━━━━━━━━━━━\u001b[0m \u001b[32m317.0/317.0 MB\u001b[0m \u001b[31m4.6 MB/s\u001b[0m eta \u001b[36m0:00:00\u001b[0m\n",
            "\u001b[?25h  Preparing metadata (setup.py) ... \u001b[?25l\u001b[?25hdone\n",
            "  Building wheel for pyspark (setup.py) ... \u001b[?25l\u001b[?25hdone\n",
            "The following additional packages will be installed:\n",
            "  libxtst6 openjdk-8-jre-headless\n",
            "Suggested packages:\n",
            "  openjdk-8-demo openjdk-8-source libnss-mdns fonts-dejavu-extra fonts-nanum fonts-ipafont-gothic\n",
            "  fonts-ipafont-mincho fonts-wqy-microhei fonts-wqy-zenhei fonts-indic\n",
            "The following NEW packages will be installed:\n",
            "  libxtst6 openjdk-8-jdk-headless openjdk-8-jre-headless\n",
            "0 upgraded, 3 newly installed, 0 to remove and 35 not upgraded.\n",
            "Need to get 39.7 MB of archives.\n",
            "After this operation, 144 MB of additional disk space will be used.\n",
            "Selecting previously unselected package libxtst6:amd64.\n",
            "(Reading database ... 121749 files and directories currently installed.)\n",
            "Preparing to unpack .../libxtst6_2%3a1.2.3-1build4_amd64.deb ...\n",
            "Unpacking libxtst6:amd64 (2:1.2.3-1build4) ...\n",
            "Selecting previously unselected package openjdk-8-jre-headless:amd64.\n",
            "Preparing to unpack .../openjdk-8-jre-headless_8u392-ga-1~22.04_amd64.deb ...\n",
            "Unpacking openjdk-8-jre-headless:amd64 (8u392-ga-1~22.04) ...\n",
            "Selecting previously unselected package openjdk-8-jdk-headless:amd64.\n",
            "Preparing to unpack .../openjdk-8-jdk-headless_8u392-ga-1~22.04_amd64.deb ...\n",
            "Unpacking openjdk-8-jdk-headless:amd64 (8u392-ga-1~22.04) ...\n",
            "Setting up libxtst6:amd64 (2:1.2.3-1build4) ...\n",
            "Setting up openjdk-8-jre-headless:amd64 (8u392-ga-1~22.04) ...\n",
            "update-alternatives: using /usr/lib/jvm/java-8-openjdk-amd64/jre/bin/orbd to provide /usr/bin/orbd (orbd) in auto mode\n",
            "update-alternatives: using /usr/lib/jvm/java-8-openjdk-amd64/jre/bin/servertool to provide /usr/bin/servertool (servertool) in auto mode\n",
            "update-alternatives: using /usr/lib/jvm/java-8-openjdk-amd64/jre/bin/tnameserv to provide /usr/bin/tnameserv (tnameserv) in auto mode\n",
            "Setting up openjdk-8-jdk-headless:amd64 (8u392-ga-1~22.04) ...\n",
            "update-alternatives: using /usr/lib/jvm/java-8-openjdk-amd64/bin/clhsdb to provide /usr/bin/clhsdb (clhsdb) in auto mode\n",
            "update-alternatives: using /usr/lib/jvm/java-8-openjdk-amd64/bin/extcheck to provide /usr/bin/extcheck (extcheck) in auto mode\n",
            "update-alternatives: using /usr/lib/jvm/java-8-openjdk-amd64/bin/hsdb to provide /usr/bin/hsdb (hsdb) in auto mode\n",
            "update-alternatives: using /usr/lib/jvm/java-8-openjdk-amd64/bin/idlj to provide /usr/bin/idlj (idlj) in auto mode\n",
            "update-alternatives: using /usr/lib/jvm/java-8-openjdk-amd64/bin/javah to provide /usr/bin/javah (javah) in auto mode\n",
            "update-alternatives: using /usr/lib/jvm/java-8-openjdk-amd64/bin/jhat to provide /usr/bin/jhat (jhat) in auto mode\n",
            "update-alternatives: using /usr/lib/jvm/java-8-openjdk-amd64/bin/jsadebugd to provide /usr/bin/jsadebugd (jsadebugd) in auto mode\n",
            "update-alternatives: using /usr/lib/jvm/java-8-openjdk-amd64/bin/native2ascii to provide /usr/bin/native2ascii (native2ascii) in auto mode\n",
            "update-alternatives: using /usr/lib/jvm/java-8-openjdk-amd64/bin/schemagen to provide /usr/bin/schemagen (schemagen) in auto mode\n",
            "update-alternatives: using /usr/lib/jvm/java-8-openjdk-amd64/bin/wsgen to provide /usr/bin/wsgen (wsgen) in auto mode\n",
            "update-alternatives: using /usr/lib/jvm/java-8-openjdk-amd64/bin/wsimport to provide /usr/bin/wsimport (wsimport) in auto mode\n",
            "update-alternatives: using /usr/lib/jvm/java-8-openjdk-amd64/bin/xjc to provide /usr/bin/xjc (xjc) in auto mode\n",
            "Processing triggers for libc-bin (2.35-0ubuntu3.4) ...\n",
            "/sbin/ldconfig.real: /usr/local/lib/libtbbmalloc_proxy.so.2 is not a symbolic link\n",
            "\n",
            "/sbin/ldconfig.real: /usr/local/lib/libtbb.so.12 is not a symbolic link\n",
            "\n",
            "/sbin/ldconfig.real: /usr/local/lib/libtbbbind_2_0.so.3 is not a symbolic link\n",
            "\n",
            "/sbin/ldconfig.real: /usr/local/lib/libtbbmalloc.so.2 is not a symbolic link\n",
            "\n",
            "/sbin/ldconfig.real: /usr/local/lib/libtbbbind.so.3 is not a symbolic link\n",
            "\n",
            "/sbin/ldconfig.real: /usr/local/lib/libtbbbind_2_5.so.3 is not a symbolic link\n",
            "\n",
            "\u001b[2K     \u001b[90m━━━━━━━━━━━━━━━━━━━━━━━━━━━━━━━━━━━━━━━━\u001b[0m \u001b[32m154.7/154.7 kB\u001b[0m \u001b[31m3.6 MB/s\u001b[0m eta \u001b[36m0:00:00\u001b[0m\n",
            "\u001b[?25h--2024-02-27 07:42:23--  https://repos.spark-packages.org/graphframes/graphframes/0.8.2-spark3.2-s_2.12/graphframes-0.8.2-spark3.2-s_2.12.jar\n",
            "Resolving repos.spark-packages.org (repos.spark-packages.org)... 13.35.166.66, 13.35.166.111, 13.35.166.93, ...\n",
            "Connecting to repos.spark-packages.org (repos.spark-packages.org)|13.35.166.66|:443... connected.\n",
            "HTTP request sent, awaiting response... 200 OK\n",
            "Length: 247880 (242K) [binary/octet-stream]\n",
            "Saving to: ‘/usr/local/lib/python3.8/dist-packages/pyspark/jars/graphframes-0.8.2-spark3.2-s_2.12.jar’\n",
            "\n",
            "graphframes-0.8.2-s 100%[===================>] 242.07K  --.-KB/s    in 0.01s   \n",
            "\n",
            "2024-02-27 07:42:23 (21.3 MB/s) - ‘/usr/local/lib/python3.8/dist-packages/pyspark/jars/graphframes-0.8.2-spark3.2-s_2.12.jar’ saved [247880/247880]\n",
            "\n"
          ]
        }
      ],
      "source": [
        "# These will already be installed in the testing environment so disregard the\n",
        "# amount of time (~1 minute) it takes to install.\n",
        "!pip install -q pyspark\n",
        "!pip install -U -q PyDrive\n",
        "!apt install openjdk-8-jdk-headless -qq\n",
        "!pip install -q graphframes\n",
        "import os\n",
        "os.environ[\"JAVA_HOME\"] = \"/usr/lib/jvm/java-8-openjdk-amd64\"\n",
        "graphframes_jar = 'https://repos.spark-packages.org/graphframes/graphframes/0.8.2-spark3.2-s_2.12/graphframes-0.8.2-spark3.2-s_2.12.jar'\n",
        "spark_jars = '/usr/local/lib/python3.8/dist-packages/pyspark/jars'\n",
        "!wget -N -P $spark_jars $graphframes_jar"
      ]
    },
    {
      "cell_type": "code",
      "execution_count": null,
      "metadata": {
        "id": "BkEErqJnsXyy"
      },
      "outputs": [],
      "source": [
        "import pyspark\n",
        "from pyspark.sql import *\n",
        "from pyspark.sql.functions import *\n",
        "from pyspark import SparkContext, SparkConf\n",
        "from pyspark.sql import SQLContext\n",
        "from pyspark.ml.feature import Tokenizer, RegexTokenizer\n",
        "from graphframes import *"
      ]
    },
    {
      "cell_type": "code",
      "execution_count": null,
      "metadata": {
        "id": "OgiSewKAsgKd"
      },
      "outputs": [],
      "source": [
        "# Initializing spark context\n",
        "# create a spark context and session\n",
        "conf = SparkConf().set(\"spark.ui.port\", \"4050\")\n",
        "conf.set(\"spark.jars.packages\", \"graphframes:graphframes:0.8.2-spark3.2-s_2.12\")\n",
        "sc = pyspark.SparkContext(conf=conf)\n",
        "sc.addPyFile(str(Path(spark_jars) / Path(graphframes_jar).name))\n",
        "spark = SparkSession.builder.getOrCreate()"
      ]
    },
    {
      "cell_type": "code",
      "execution_count": null,
      "metadata": {
        "id": "PUyhQAlBs8qL",
        "colab": {
          "base_uri": "https://localhost:8080/",
          "height": 219
        },
        "outputId": "d57214b4-9aeb-4d9d-fd72-8f7d260bd59e"
      },
      "outputs": [
        {
          "output_type": "execute_result",
          "data": {
            "text/plain": [
              "<pyspark.sql.session.SparkSession at 0x7f1f4d22afb0>"
            ],
            "text/html": [
              "\n",
              "            <div>\n",
              "                <p><b>SparkSession - in-memory</b></p>\n",
              "                \n",
              "        <div>\n",
              "            <p><b>SparkContext</b></p>\n",
              "\n",
              "            <p><a href=\"http://1f2328d8dd92:4050\">Spark UI</a></p>\n",
              "\n",
              "            <dl>\n",
              "              <dt>Version</dt>\n",
              "                <dd><code>v3.5.1</code></dd>\n",
              "              <dt>Master</dt>\n",
              "                <dd><code>local[*]</code></dd>\n",
              "              <dt>AppName</dt>\n",
              "                <dd><code>pyspark-shell</code></dd>\n",
              "            </dl>\n",
              "        </div>\n",
              "        \n",
              "            </div>\n",
              "        "
            ]
          },
          "metadata": {},
          "execution_count": 5
        }
      ],
      "source": [
        "spark"
      ]
    },
    {
      "cell_type": "code",
      "execution_count": null,
      "metadata": {
        "id": "DkdjBm5DOVWX"
      },
      "outputs": [],
      "source": [
        "# Authenticate your user\n",
        "# The authentication should be done with the email connected to your GCP account\n",
        "from google.colab import auth\n",
        "import signal\n",
        "\n",
        "AUTH_TIMEOUT = 300000\n",
        "\n",
        "def handler(signum, frame):\n",
        "  raise Exception(\"Authentication timeout!\")\n",
        "\n",
        "signal.signal(signal.SIGALRM, handler)\n",
        "signal.alarm(AUTH_TIMEOUT)\n",
        "\n",
        "try:\n",
        "   auth.authenticate_user()\n",
        "except:\n",
        "   pass"
      ]
    },
    {
      "cell_type": "code",
      "execution_count": null,
      "metadata": {
        "id": "vDuikxFbN9B7",
        "colab": {
          "base_uri": "https://localhost:8080/"
        },
        "outputId": "86d4ad14-df64-4dd7-a008-ab40e0580eb5"
      },
      "outputs": [
        {
          "output_type": "stream",
          "name": "stdout",
          "text": [
            "Updated property [core/project].\n",
            "mkdir: cannot create directory ‘wikidumps’: File exists\n",
            "Copying gs://318305570_207757535_bucket/multistream1_preprocessed.parquet...\n",
            "==> NOTE: You are downloading one or more large file(s), which would\n",
            "run significantly faster if you enabled sliced object downloads. This\n",
            "feature is enabled by default but requires that compiled crcmod be\n",
            "installed (see \"gsutil help crcmod\").\n",
            "\n",
            "/ [1 files][316.7 MiB/316.7 MiB]   23.5 MiB/s                                   \n",
            "Operation completed over 1 objects/316.7 MiB.                                    \n"
          ]
        }
      ],
      "source": [
        "# Copy one wikidumps files\n",
        "import os\n",
        "from pathlib import Path\n",
        "from google.colab import auth\n",
        "## RENAME the project_id to yours project id from the project you created in GCP\n",
        "project_id = 'irfinalproject-415108'\n",
        "!gcloud config set project {project_id}\n",
        "\n",
        "data_bucket_name = '318305570_207757535_bucket'\n",
        "try:\n",
        "    if os.environ[\"wikidata_preprocessed\"] is not None:\n",
        "        pass\n",
        "except:\n",
        "      !mkdir wikidumps\n",
        "      !gsutil -u {project_id} cp gs://{data_bucket_name}/multistream1_preprocessed.parquet \"wikidumps/\"\n"
      ]
    },
    {
      "cell_type": "code",
      "execution_count": null,
      "metadata": {
        "id": "nmMTFnPaaqRQ"
      },
      "outputs": [],
      "source": [
        "from pathlib import Path\n",
        "import os\n",
        "\n",
        "try:\n",
        "    if os.environ[\"wikidata_preprocessed\"] is not None:\n",
        "      path = os.environ[\"wikidata_preprocessed\"]+\"/wikidumps/*\"\n",
        "except:\n",
        "      path = \"wikidumps/*\"\n",
        "\n",
        "parquetFile = spark.read.parquet(path)\n",
        "# parquetFile.show()"
      ]
    },
    {
      "cell_type": "code",
      "execution_count": 95,
      "metadata": {
        "id": "KMcsrc8RO9kn"
      },
      "outputs": [],
      "source": [
        "# take the 'text' and 'id' or the first 1000 rows and create an RDD from it\n",
        "doc_text_pairs = parquetFile.limit(1000).select(\"id\", \"title\").rdd\n",
        "tokens_doc_pairs = doc_text_pairs.map(lambda x: (x[0], pre_calc.tokenize(x[1])))\n",
        "# def add_ido(pair):\n",
        "#     if pair[0] == 12 or pair[0] == 25:\n",
        "#         pair[1].append('ido')\n",
        "#         pair[1].append('anarchism')\n",
        "#     return pair\n",
        "\n",
        "# # Modify the RDD using map\n",
        "# modified_rdd = tokens_doc_pairs.map(add_ido)\n",
        "# print(modified_rdd.collect())\n",
        "# new_tuple = (12, ['anarchism', 'anarchism'])\n",
        "# tokens_doc_pairs.collect()[0] = new_tuple\n",
        "# print(tokens_doc_pairs.collect()[0][1])\n",
        "# tokens = [token.group() for token in RE_WORD.finditer(doc_text_pairs.take(1)[0][1].lower())]\n",
        "# tokens_doc_pairs = doc_text_pairs.map(lambda x: ([token.group() for token in RE_WORD.finditer(x[0].lower())], x[1]))\n",
        "# filtered_doc_text_pairs = tokens_doc_pairs.filter(lambda x: \"barcelona\" in x[0])\n"
      ]
    },
    {
      "cell_type": "code",
      "execution_count": null,
      "metadata": {
        "id": "9GmPedzexLyt"
      },
      "outputs": [],
      "source": [
        "english_stopwords = frozenset(stopwords.words('english'))\n",
        "corpus_stopwords = ['category', 'references', 'also', 'links', 'extenal', 'see', 'thumb']\n",
        "RE_WORD = re.compile(r\"\"\"[\\#\\@\\w](['\\-]?\\w){2,24}\"\"\", re.UNICODE)\n",
        "\n",
        "all_stopwords = english_stopwords.union(corpus_stopwords)\n",
        "\n",
        "def word_count(text, id, by_id=False):\n",
        "  ''' Count the frequency of each word in `text` (tf) that is not included in\n",
        "  `all_stopwords` and return entries that will go into our posting lists.\n",
        "  Parameters:\n",
        "  -----------\n",
        "    text: str\n",
        "      Text of one document\n",
        "    id: int\n",
        "      Document id\n",
        "  Returns:\n",
        "  --------\n",
        "    List of tuples\n",
        "      A list of (token, (doc_id, tf)) pairs\n",
        "      for example: [(\"Anarchism\", (12, 5)), ...]\n",
        "  '''\n",
        "  word_freq = {}\n",
        "  for token in text:\n",
        "      if token not in all_stopwords:\n",
        "          if token in word_freq:\n",
        "              word_freq[token] += 1\n",
        "          else:\n",
        "              word_freq[token] = 1\n",
        "  if by_id:\n",
        "    return [(id, (token, freq)) for token, freq in word_freq.items()]\n",
        "  else:\n",
        "    return [(token, (id, freq)) for token, freq in word_freq.items()]\n",
        "\n"
      ]
    },
    {
      "cell_type": "code",
      "execution_count": 92,
      "metadata": {
        "id": "1yFhHQBZHIBb"
      },
      "outputs": [],
      "source": [
        "def reduce_word_counts(unsorted_pl):\n",
        "  ''' Returns a sorted posting list by wiki_id.\n",
        "  Parameters:\n",
        "  -----------\n",
        "    unsorted_pl: list of tuples\n",
        "      A list of (wiki_id, tf) tuples\n",
        "  Returns:\n",
        "  --------\n",
        "    list of tuples\n",
        "      A sorted posting list.\n",
        "  '''\n",
        "  # Sort the unsorted posting list by wiki_id\n",
        "  sorted_pl = sorted(unsorted_pl, key=lambda x: x[1], reverse = True)\n",
        "  return sorted_pl"
      ]
    },
    {
      "cell_type": "code",
      "execution_count": null,
      "metadata": {
        "id": "J_-UoG2CGj4o"
      },
      "outputs": [],
      "source": [
        "def calculate_df(postings):\n",
        "  ''' Takes a posting list RDD and calculate the df for each token.\n",
        "  Parameters:\n",
        "  -----------\n",
        "    postings: RDD\n",
        "      An RDD where each element is a (token, posting_list) pair.\n",
        "  Returns:\n",
        "  --------\n",
        "    RDD\n",
        "      An RDD where each element is a (token, df) pair.\n",
        "  '''\n",
        "  # Count the number of documents each token appears in\n",
        "  token_df = postings.map(lambda x: (x[0], len(x[1]))).distinct()\n",
        "  return token_df"
      ]
    },
    {
      "cell_type": "code",
      "execution_count": null,
      "metadata": {
        "id": "MvZDJk0bu9V9"
      },
      "outputs": [],
      "source": [
        "NUM_BUCKETS = 124\n",
        "def token2bucket_id(token):\n",
        "  return int(_hash(token),16) % NUM_BUCKETS\n",
        "\n",
        "def partition_postings_and_write(postings):\n",
        "  ''' A function that partitions the posting lists into buckets, writes out\n",
        "  all posting lists in a bucket to disk, and returns the posting locations for\n",
        "  each bucket. Partitioning should be done through the use of `token2bucket`\n",
        "  above. Writing to disk should use the function  `write_a_posting_list`, a\n",
        "  static method implemented in inverted_index_colab.py under the InvertedIndex\n",
        "  class.\n",
        "  Parameters:\n",
        "  -----------\n",
        "    postings: RDD\n",
        "      An RDD where each item is a (w, posting_list) pair.\n",
        "  Returns:\n",
        "  --------\n",
        "    RDD\n",
        "      An RDD where each item is a posting locations dictionary for a bucket. The\n",
        "      posting locations maintain a list for each word of file locations and\n",
        "      offsets its posting list was written to. See `write_a_posting_list` for\n",
        "      more details.\n",
        "  '''\n",
        "  # Partition postings into buckets\n",
        "  bucketed_postings = postings.groupBy(lambda x: token2bucket_id(x[0]))\n",
        "\n",
        "  # Write posting lists to disk and get posting locations for each bucket\n",
        "  posting_locations = bucketed_postings.map(lambda x: InvertedIndex.write_a_posting_list((x[0], list(x[1]))))\n",
        "\n",
        "  return posting_locations\n",
        "\n"
      ]
    },
    {
      "cell_type": "code",
      "execution_count": null,
      "metadata": {
        "id": "sp8xsRZsB2aB"
      },
      "outputs": [],
      "source": [
        "# # test partitioning for the different buckets (10 points)\n",
        "# word_counts = doc_text_pairs.flatMap(lambda x: word_count(x[0], x[1]))\n",
        "# postings = word_counts.groupByKey().mapValues(reduce_word_counts)\n",
        "# postings_filtered = postings.filter(lambda x: len(x[1])>10)\n",
        "# posting_locs_list = partition_postings_and_write(postings_filtered).collect()\n",
        "# # assert len(posting_locs_list) == 124\n",
        "# print(posting_locs_list)\n",
        "# print(len(list(Path('.').glob('*.bin'))))\n",
        "# # assert len(list(Path('.').glob('*.bin'))) == 124\n",
        "# pl_lens = [len(pl) for pl in posting_locs_list]\n",
        "# print(np.max(pl_lens))\n",
        "# # assert np.max(pl_lens) == 141\n",
        "# # assert np.min(pl_lens) == 91\n",
        "# # assert int(np.median(pl_lens)) == 116"
      ]
    },
    {
      "cell_type": "code",
      "execution_count": 96,
      "metadata": {
        "id": "4E2scadTsozr"
      },
      "outputs": [],
      "source": [
        "word_counts = tokens_doc_pairs.flatMap(lambda x: word_count(x[1], x[0]))\n",
        "postings = word_counts.groupByKey().mapValues(reduce_word_counts)\n",
        "# postings_filtered = postings.filter(lambda x: len(x[1])>10)\n",
        "w2df = calculate_df(postings)\n",
        "w2df_dict = w2df.collectAsMap()\n",
        "posting_locs_list = partition_postings_and_write(postings).collect()\n",
        "super_posting_locs = defaultdict(list)\n",
        "for posting_loc in posting_locs_list:\n",
        "  for k, v in posting_loc.items():\n",
        "    super_posting_locs[k].extend(v)\n"
      ]
    },
    {
      "cell_type": "markdown",
      "metadata": {
        "id": "xBpxtFW7HeAT"
      },
      "source": [
        "Putting everything together (posting locations, df) and test that the resulting index is correct."
      ]
    },
    {
      "cell_type": "code",
      "execution_count": 97,
      "metadata": {
        "id": "VKrew8cUAyTz",
        "colab": {
          "base_uri": "https://localhost:8080/"
        },
        "outputId": "ac289fb1-9aad-4c46-d36c-744ed04ef002"
      },
      "outputs": [
        {
          "output_type": "stream",
          "name": "stdout",
          "text": [
            "{'anarchism': [(12, 1)], 'autism': [(25, 1)], 'albedo': [(39, 1)], 'alabama': [(303, 1), (1285, 1), (1286, 1), (1484, 1)], 'achilles': [(305, 1), (2421, 1)], 'abraham': [(307, 1), (1436, 1)], 'lincoln': [(307, 1)], 'aristotle': [(308, 1)], 'american': [(309, 1), (615, 1), (659, 1), (771, 1), (863, 1), (869, 1), (966, 1), (1110, 1), (1111, 1), (1112, 1), (1201, 1), (1241, 1), (1488, 1), (1558, 1), (1890, 1), (1902, 1), (1950, 1), (1973, 1), (2011, 1), (2175, 1), (2357, 1), (2386, 1)], 'paris': [(309, 1)], 'academy': [(316, 1), (324, 1)], 'award': [(316, 1)], 'best': [(316, 1)], 'production': [(316, 1)], 'design': [(316, 1)], 'awards': [(324, 1)], 'actrius': [(330, 1)], 'animalia': [(332, 1)], 'book': [(332, 1), (1726, 1)], 'international': [(334, 1)], 'atomic': [(334, 1), (673, 1), (1194, 1), (1200, 1), (1206, 1), (2014, 1)], 'time': [(334, 1), (1638, 1)], 'altruism': [(336, 1)], 'ayn': [(339, 1)], 'rand': [(339, 1)], 'alain': [(340, 1), (1485, 1)], 'connes': [(340, 1)], 'allan': [(344, 1)], 'dwan': [(344, 1)], 'algeria': [(358, 1)], 'list': [(359, 1), (728, 1), (1286, 1), (2142, 1)], 'atlas': [(359, 1), (780, 1)], 'shrugged': [(359, 1)], 'characters': [(359, 1)], 'anthropology': [(569, 1)], 'agricultural': [(572, 1)], 'science': [(572, 1)], 'alchemy': [(573, 1)], 'alien': [(579, 1)], 'astronomer': [(580, 1), (1940, 1)], 'ascii': [(586, 1), (1884, 1)], 'austin': [(590, 1), (1998, 1)], 'disambiguation': [(590, 1), (632, 1), (661, 1), (679, 1), (694, 1), (780, 1), (1155, 1), (1184, 1), (1391, 1), (1501, 1), (1597, 1), (1919, 1), (1931, 1), (2004, 1), (2123, 1), (2127, 1), (2209, 1), (2332, 1)], 'animation': [(593, 1)], 'apollo': [(594, 1), (662, 1), (663, 1), (1461, 1), (1770, 1), (1773, 1), (1774, 1), (1965, 1), (1966, 1), (1967, 1), (1968, 1), (1969, 1), (1970, 1), (1971, 1)], 'andre': [(595, 1)], 'agassi': [(595, 1)], 'austroasiatic': [(597, 1)], 'languages': [(597, 1), (599, 1), (824, 1)], 'afroasiatic': [(599, 1)], 'andorra': [(600, 1)], 'arithmetic': [(612, 1)], 'mean': [(612, 1)], 'football': [(615, 1), (2357, 1), (2403, 1)], 'conference': [(615, 1)], 'animal': [(620, 1), (679, 1)], 'farm': [(620, 1)], 'amphibian': [(621, 1)], 'alaska': [(624, 1)], 'agriculture': [(627, 1)], 'aldous': [(628, 1)], 'huxley': [(628, 1)], 'ada': [(630, 1), (974, 1), (1242, 1)], 'aberdeen': [(632, 1), (1627, 1)], 'algae': [(633, 1)], 'analysis': [(634, 1), (1134, 1), (2230, 1)], 'variance': [(634, 1), (1063, 1)], 'alkane': [(639, 1)], 'appellate': [(640, 1), (643, 1)], 'procedure': [(640, 1)], 'united': [(640, 1), (2104, 1), (2210, 1)], 'states': [(640, 1), (2104, 1), (2210, 1)], 'answer': [(642, 1)], 'law': [(642, 1), (766, 1), (2323, 1)], 'court': [(643, 1)], 'arraignment': [(649, 1)], 'america': [(651, 1)], 'beautiful': [(651, 1)], 'assistive': [(653, 1)], 'technology': [(653, 1)], 'abacus': [(655, 1)], 'acid': [(656, 1), (1207, 1), (2268, 1)], 'asphalt': [(657, 1)], 'national': [(659, 1), (1136, 1)], 'standards': [(659, 1)], 'institute': [(659, 1), (869, 1)], 'argument': [(661, 1), (2003, 1)], 'astronaut': [(664, 1)], 'modest': [(665, 1)], 'proposal': [(665, 1)], 'alkali': [(666, 1)], 'metal': [(666, 1)], 'alphabet': [(670, 1), (960, 1), (1894, 1), (2204, 1)], 'number': [(673, 1), (1158, 1), (2061, 1), (2330, 1)], 'anatomy': [(674, 1)], 'affirming': [(675, 1)], 'consequent': [(675, 1)], 'andrei': [(676, 1)], 'tarkovsky': [(676, 1)], 'ambiguity': [(677, 1)], 'abel': [(678, 1), (1988, 1)], 'aardvark': [(680, 1)], 'aardwolf': [(681, 1)], 'adobe': [(682, 1), (1955, 1)], 'adventure': [(683, 1)], 'asia': [(689, 1), (694, 1)], 'aruba': [(690, 1)], 'articles': [(691, 1)], 'confederation': [(691, 1)], 'minor': [(694, 1)], 'atlantic': [(698, 1), (1155, 1)], 'ocean': [(698, 1)], 'arthur': [(700, 1), (1563, 1), (2138, 1), (2274, 1), (2310, 1)], 'schopenhauer': [(700, 1)], 'angola': [(701, 1), (704, 1), (705, 1), (706, 1), (708, 1), (710, 1)], 'demographics': [(704, 1), (1069, 1), (1092, 1), (1110, 1)], 'politics': [(705, 1), (1070, 1), (1093, 1), (1111, 1)], 'economy': [(706, 1), (1081, 1), (1094, 1), (1112, 1), (1841, 1)], 'transport': [(708, 1), (1096, 1), (1279, 1)], 'angolan': [(709, 1)], 'armed': [(709, 1), (1088, 1), (1097, 1)], 'forces': [(709, 1), (1088, 1), (1097, 1)], 'foreign': [(710, 1), (1087, 1), (1098, 1)], 'relations': [(710, 1), (1087, 1), (1098, 1)], 'albert': [(711, 1), (736, 1), (954, 1), (983, 1), (1029, 1), (1504, 1), (1505, 1), (1506, 1), (1507, 1), (1508, 1), (1509, 1), (1513, 1), (1514, 1), (1893, 1), (2371, 1)], 'sidney': [(711, 1)], 'johnston': [(711, 1)], 'android': [(713, 1)], 'robot': [(713, 1)], 'alberta': [(717, 1), (1841, 1)], 'anthropologists': [(728, 1)], 'actinopterygii': [(734, 1)], 'einstein': [(736, 1)], 'afghanistan': [(737, 1)], 'albania': [(738, 1)], 'allah': [(740, 1)], 'algorithms': [(742, 1), (1063, 1), (2230, 1)], 'journal': [(742, 1)], 'azerbaijan': [(746, 1), (1081, 1), (1082, 1), (1087, 1)], 'amateur': [(748, 1), (1049, 1)], 'astronomy': [(748, 1)], 'aikido': [(751, 1)], 'art': [(752, 1), (1881, 1), (1884, 1), (2207, 1)], 'agnostida': [(764, 1)], 'abortion': [(765, 1)], 'abstract': [(766, 1), (2349, 1)], 'revolutionary': [(771, 1)], 'war': [(771, 1), (863, 1)], 'ampere': [(772, 1)], 'algorithm': [(775, 1)], 'annual': [(777, 1)], 'plant': [(777, 1)], 'anthophyta': [(779, 1)], 'mouthwash': [(782, 1)], 'alexander': [(783, 1), (852, 1), (1235, 1), (1548, 1), (1585, 1), (1586, 1), (1587, 1), (1588, 1), (1589, 1), (1592, 1), (1593, 1), (1594, 1), (1595, 1), (1596, 1), (1597, 1), (1599, 1), (1600, 1), (1601, 1), (1602, 1), (1603, 1), (1604, 1), (1605, 1), (1606, 1), (1607, 1), (1608, 1), (1751, 1), (1790, 1), (1937, 1), (1957, 1), (2042, 1)], 'great': [(783, 1), (1568, 1), (1640, 1)], 'alfred': [(784, 1), (808, 1), (851, 1), (1293, 1), (1494, 1), (1640, 1), (1702, 1), (1779, 1), (1869, 1)], 'korzybski': [(784, 1)], 'asteroids': [(785, 1)], 'video': [(785, 1)], 'game': [(785, 1), (1136, 1), (1183, 1)], 'asparagales': [(786, 1)], 'alismatales': [(787, 1)], 'apiales': [(788, 1)], 'asterales': [(789, 1)], 'asteroid': [(791, 1)], 'allocution': [(794, 1)], 'affidavit': [(795, 1)], 'aries': [(798, 1)], 'constellation': [(798, 1), (799, 1), (1927, 1)], 'aquarius': [(799, 1)], 'anime': [(800, 1)], 'asterism': [(801, 1)], 'ankara': [(802, 1)], 'arabic': [(803, 1), (1786, 1), (2204, 1)], 'hitchcock': [(808, 1)], 'anaconda': [(809, 1)], 'altaic': [(824, 1)], 'austrian': [(825, 1), (1030, 1)], 'german': [(825, 1)], 'axiom': [(840, 1), (928, 1), (2113, 1)], 'choice': [(840, 1)], 'attila': [(841, 1)], 'aegean': [(842, 1)], 'sea': [(842, 1)], 'clockwork': [(843, 1)], 'orange': [(843, 1)], 'novel': [(843, 1)], 'amsterdam': [(844, 1)], 'museum': [(846, 1)], 'work': [(846, 1)], 'audi': [(848, 1)], 'aircraft': [(849, 1), (2075, 1), (2219, 1)], 'nobel': [(851, 1)], 'graham': [(852, 1)], 'bell': [(852, 1)], 'anatolia': [(854, 1)], 'apple': [(856, 1), (1344, 1), (2116, 1), (2117, 1), (2275, 1)], 'inc': [(856, 1), (1955, 1)], 'aberdeenshire': [(857, 1)], 'aztlan': [(859, 1)], 'underground': [(859, 1)], 'civil': [(863, 1), (1950, 1)], 'andy': [(864, 1)], 'warhol': [(864, 1)], 'alp': [(868, 1)], 'arslan': [(868, 1)], 'film': [(869, 1)], 'akira': [(872, 1)], 'kurosawa': [(872, 1)], 'ancient': [(874, 1), (1167, 1)], 'egypt': [(874, 1), (1440, 1)], 'analog': [(875, 1), (993, 1), (2393, 1), (2428, 1)], 'brothers': [(875, 1)], 'motor': [(876, 1)], 'neuron': [(876, 1)], 'disease': [(876, 1)], 'abjad': [(877, 1)], 'abugida': [(878, 1)], 'abba': [(880, 1)], 'allegiance': [(881, 1)], 'altenberg': [(885, 1)], 'messagepad': [(887, 1)], 'van': [(888, 1)], 'vogt': [(888, 1)], 'anna': [(890, 1)], 'kournikova': [(890, 1)], 'alfons': [(892, 1)], 'maria': [(892, 1)], 'jakob': [(892, 1)], 'agnosticism': [(894, 1)], 'argon': [(896, 1)], 'arsenic': [(897, 1)], 'antimony': [(898, 1)], 'actinium': [(899, 1)], 'americium': [(900, 1)], 'astatine': [(901, 1)], 'atom': [(902, 1)], 'arable': [(903, 1)], 'land': [(903, 1)], 'aluminium': [(904, 1)], 'advanced': [(905, 1), (1260, 1), (2400, 1)], 'chemistry': [(905, 1), (2268, 1), (2408, 1)], 'anglican': [(909, 1)], 'communion': [(909, 1)], 'arne': [(910, 1)], 'kaijser': [(910, 1)], 'archipelago': [(911, 1)], 'author': [(914, 1)], 'andrey': [(915, 1)], 'markov': [(915, 1)], 'angst': [(921, 1)], 'anxiety': [(922, 1)], 'milne': [(924, 1)], 'asociación': [(925, 1)], 'alumni': [(925, 1)], 'alpha': [(929, 1), (1267, 1), (1979, 1), (2049, 1), (2215, 1)], 'alvin': [(930, 1)], 'toffler': [(930, 1)], 'amazing': [(931, 1), (1395, 1)], 'spider-man': [(931, 1)], 'antigua': [(951, 1), (1069, 1), (1070, 1), (1072, 1), (1074, 1)], 'barbuda': [(951, 1), (1069, 1), (1070, 1), (1072, 1), (1074, 1)], 'azincourt': [(953, 1)], 'speer': [(954, 1)], 'asteraceae': [(956, 1)], 'apiaceae': [(957, 1)], 'axon': [(958, 1)], 'aramaic': [(960, 1), (2303, 1)], 'shot': [(966, 1)], 'acute': [(967, 1)], 'disseminated': [(967, 1)], 'encephalomyelitis': [(967, 1)], 'ataxia': [(969, 1)], 'lovelace': [(974, 1)], 'august': [(980, 1), (1005, 1), (1012, 1), (1013, 1), (1019, 1), (1027, 1), (1129, 1), (1154, 1), (1254, 1), (1259, 1), (1332, 1), (1333, 1), (1417, 1), (1442, 1), (1448, 1), (1490, 1), (1491, 1), (1496, 1), (1497, 1), (1499, 1), (1519, 1), (1628, 1), (1629, 1), (1700, 1), (1711, 1), (1781, 1), (1793, 1), (1794, 1), (1990, 1), (2038, 1), (2192, 1), (2315, 1), (2418, 1)], 'derleth': [(980, 1)], 'alps': [(981, 1)], 'camus': [(983, 1)], 'agatha': [(984, 1)], 'christie': [(984, 1)], 'plague': [(986, 1)], 'applied': [(988, 1)], 'ethics': [(988, 1)], 'absolute': [(991, 1), (1418, 1), (1963, 1)], 'value': [(991, 1)], 'signal': [(993, 1), (2322, 1)], 'arecales': [(994, 1)], 'hercule': [(1000, 1)], 'poirot': [(1000, 1)], 'miss': [(1002, 1)], 'marple': [(1002, 1)], 'april': [(1004, 1), (1008, 1), (1009, 1), (1010, 1), (1011, 1), (1175, 1), (1261, 1), (1334, 1), (1416, 1), (1541, 1), (1639, 1), (1710, 1), (1777, 1), (1787, 1), (1826, 1), (1827, 1), (1862, 1), (1974, 1), (2194, 1), (2195, 1), (2196, 1), (2224, 1), (2279, 1), (2326, 1), (2395, 1)], 'aaron': [(1006, 1)], 'alcohol': [(1014, 1), (1946, 1)], 'achill': [(1016, 1)], 'island': [(1016, 1)], 'allen': [(1017, 1)], 'ginsberg': [(1017, 1)], 'algebraically': [(1018, 1)], 'closed': [(1018, 1)], 'field': [(1018, 1)], 'anatoly': [(1020, 1)], 'karpov': [(1020, 1)], 'aspect': [(1021, 1)], 'ratio': [(1021, 1)], 'auto': [(1022, 1)], 'racing': [(1022, 1)], 'anarcho-capitalism': [(1023, 1)], 'aristophanes': [(1028, 1)], 'schweitzer': [(1029, 1)], 'school': [(1030, 1), (1316, 1)], 'abscess': [(1032, 1)], 'aalborg': [(1036, 1)], 'municipality': [(1036, 1)], 'aarhus': [(1038, 1)], 'northern': [(1043, 1)], 'cavefish': [(1043, 1)], 'abatement': [(1046, 1)], 'alexis': [(1051, 1), (1614, 1), (2282, 1)], 'carrel': [(1051, 1)], 'souls': [(1055, 1)], 'day': [(1055, 1), (2017, 1)], 'anatole': [(1057, 1)], 'france': [(1057, 1)], 'andré': [(1058, 1), (1758, 1), (2019, 1)], 'gide': [(1058, 1)], 'calculating': [(1063, 1)], 'almond': [(1064, 1)], 'telecommunications': [(1072, 1), (1223, 1)], 'royal': [(1074, 1), (1940, 1)], 'defence': [(1074, 1)], 'force': [(1074, 1)], 'antisemitism': [(1078, 1), (2187, 1)], 'geography': [(1082, 1), (1091, 1), (1274, 1), (1285, 1), (1854, 1)], 'azerbaijani': [(1088, 1)], 'armenia': [(1091, 1), (1092, 1), (1093, 1), (1094, 1), (1096, 1), (1097, 1), (1098, 1)], 'samoa': [(1110, 1), (1111, 1), (1112, 1)], 'avicenna': [(1130, 1)], 'ashes': [(1132, 1)], 'abner': [(1135, 1), (1526, 1)], 'doubleday': [(1135, 1)], \"america's\": [(1136, 1)], 'amplitude': [(1140, 1)], 'modulation': [(1140, 1)], 'augustin-jean': [(1141, 1)], 'fresnel': [(1141, 1)], 'abbot': [(1143, 1)], 'ardipithecus': [(1144, 1)], 'assembly': [(1146, 1), (1368, 1)], 'line': [(1146, 1)], 'adelaide': [(1148, 1)], 'alan': [(1152, 1), (1208, 1), (1307, 1), (1449, 1), (1975, 1)], 'garner': [(1152, 1)], 'algebraic': [(1158, 1), (1997, 1), (2125, 1)], 'automorphism': [(1160, 1)], 'accordion': [(1162, 1)], 'artificial': [(1164, 1), (2142, 1)], 'intelligence': [(1164, 1), (2142, 1)], 'afro': [(1166, 1)], 'celt': [(1166, 1)], 'sound': [(1166, 1)], 'system': [(1166, 1), (1291, 1)], 'philosophy': [(1167, 1)], 'anaximander': [(1168, 1)], 'apl': [(1169, 1), (1451, 1)], 'architect': [(1170, 1)], 'abbreviation': [(1171, 1)], 'aphrodite': [(1174, 1)], 'antisymmetric': [(1176, 1)], 'relation': [(1176, 1)], 'aleister': [(1177, 1)], 'crowley': [(1177, 1)], 'afterlife': [(1178, 1)], 'astrometry': [(1181, 1)], 'athena': [(1182, 1)], 'amber': [(1183, 1), (1372, 1), (2024, 1)], 'diceless': [(1183, 1)], 'roleplaying': [(1183, 1)], 'athene': [(1184, 1)], 'alloy': [(1187, 1)], 'artistic': [(1192, 1), (2161, 1)], 'revolution': [(1192, 1), (1973, 1)], 'agrarianism': [(1193, 1)], 'angle': [(1196, 1)], 'asa': [(1197, 1), (1807, 1)], 'acoustics': [(1198, 1)], 'physics': [(1200, 1)], 'sign': [(1201, 1)], 'language': [(1201, 1), (1242, 1), (1368, 1), (1451, 1), (2217, 1), (2335, 1)], 'applet': [(1202, 1)], 'alternate': [(1203, 1)], 'orbital': [(1206, 1)], 'amino': [(1207, 1)], 'turing': [(1208, 1)], 'area': [(1209, 1), (2321, 1)], 'astronomical': [(1210, 1)], 'unit': [(1210, 1), (1946, 1)], 'artist': [(1212, 1)], 'actaeon': [(1213, 1)], 'anglicanism': [(1214, 1)], 'athens': [(1216, 1), (2076, 1)], 'anguilla': [(1217, 1), (1223, 1)], 'ashmore': [(1227, 1)], 'cartier': [(1227, 1)], 'islands': [(1227, 1), (1750, 1)], 'acoustic': [(1234, 1), (2237, 1)], 'theory': [(1234, 1)], 'mackenzie': [(1235, 1)], 'politician': [(1235, 1)], 'ashoka': [(1239, 1)], 'word': [(1241, 1)], 'programming': [(1242, 1), (1451, 1)], 'alfonso': [(1247, 1), (1664, 1), (1676, 1), (1677, 1), (1679, 1), (1683, 1), (1684, 1), (1686, 1), (1689, 1), (1691, 1), (1692, 1), (1694, 1), (1696, 1), (1879, 1), (2329, 1)], 'cuarón': [(1247, 1)], 'arianism': [(1252, 1)], 'antoninus': [(1256, 1)], 'pius': [(1256, 1)], 'encryption': [(1260, 1)], 'standard': [(1260, 1)], 'anisotropy': [(1264, 1)], 'decay': [(1267, 1)], 'extreme': [(1270, 1)], 'poverty': [(1270, 1)], 'analytical': [(1271, 1), (2408, 1)], 'engine': [(1271, 1)], 'augustus': [(1273, 1)], 'antarctica': [(1274, 1), (1279, 1)], 'governors': [(1286, 1)], 'apocrypha': [(1288, 1)], 'antarctic': [(1291, 1), (2015, 1)], 'treaty': [(1291, 1)], 'lawson': [(1293, 1)], 'ames': [(1298, 1)], 'iowa': [(1298, 1)], 'abalone': [(1300, 1)], 'abbess': [(1301, 1)], 'abdominal': [(1303, 1)], 'surgery': [(1303, 1)], 'abduction': [(1304, 1)], 'abensberg': [(1305, 1)], 'arminianism': [(1306, 1)], 'parsons': [(1307, 1)], 'project': [(1307, 1)], 'almost': [(1309, 1)], 'aromatic': [(1313, 1)], 'compound': [(1313, 1), (2120, 1)], 'abbey': [(1315, 1)], 'annales': [(1316, 1)], 'antimatter': [(1317, 1)], 'casa': [(1322, 1), (1325, 1)], 'batlló': [(1322, 1)], 'park': [(1324, 1)], 'güell': [(1324, 1)], 'milà': [(1325, 1)], 'antiparticle': [(1327, 1)], 'arabian': [(1331, 1)], 'prince': [(1331, 1)], 'associative': [(1335, 1), (2112, 1)], 'property': [(1335, 1), (2444, 1)], 'apache': [(1336, 1)], 'software': [(1336, 1)], 'foundation': [(1336, 1)], 'americans': [(1338, 1), (2154, 1)], 'disabilities': [(1338, 1)], 'act': [(1338, 1), (2070, 1)], '1990': [(1338, 1)], 'apatosaurus': [(1346, 1)], 'allosaurus': [(1347, 1)], 'ak-47': [(1348, 1)], 'atanasoff': [(1349, 1)], 'berry': [(1349, 1)], 'computer': [(1349, 1), (2428, 1)], 'andes': [(1354, 1)], 'ancylopoda': [(1356, 1)], 'anchor': [(1358, 1)], 'anbar': [(1359, 1)], 'town': [(1359, 1)], 'anazarbus': [(1360, 1)], 'anagram': [(1361, 1)], 'anadyr': [(1362, 1)], 'river': [(1362, 1), (1484, 1), (1701, 1)], 'andré-marie': [(1363, 1)], 'ampère': [(1363, 1)], 'ammonia': [(1365, 1)], 'amethyst': [(1366, 1)], 'albertosaurus': [(1367, 1)], 'ambrosia': [(1369, 1)], 'ambrose': [(1370, 1), (1714, 1), (1716, 1)], 'ambracia': [(1371, 1)], 'amalaric': [(1373, 1)], 'alphorn': [(1374, 1)], 'army': [(1376, 1)], 'alligatoridae': [(1380, 1)], 'alder': [(1383, 1)], 'amos': [(1384, 1), (1726, 1)], 'bronson': [(1384, 1)], 'alcott': [(1384, 1)], 'arachnophobia': [(1386, 1)], 'alabaster': [(1387, 1)], 'ahab': [(1389, 1)], 'asic': [(1391, 1)], 'dasyproctidae': [(1392, 1)], 'algol': [(1394, 1), (1453, 1)], 'grace': [(1395, 1)], 'aol': [(1397, 1)], 'anno': [(1400, 1)], 'domini': [(1400, 1)], 'alcuin': [(1408, 1)], 'angilbert': [(1409, 1)], 'amine': [(1412, 1)], 'zero': [(1418, 1)], 'adiabatic': [(1419, 1)], 'process': [(1419, 1)], 'amide': [(1422, 1)], 'animism': [(1423, 1)], 'antonio': [(1425, 1), (1552, 1), (2064, 1), (2241, 1)], 'vivaldi': [(1425, 1)], 'adrian': [(1428, 1)], 'aare': [(1433, 1)], 'abbotsford': [(1435, 1)], 'scottish': [(1435, 1)], 'borders': [(1435, 1)], 'abraxas': [(1437, 1)], 'absalom': [(1438, 1)], 'abydos': [(1439, 1), (1440, 1), (1441, 1)], 'hellespont': [(1441, 1)], 'acacia': [(1445, 1)], 'sensu': [(1445, 1)], 'lato': [(1445, 1)], 'acapulco': [(1446, 1)], 'kay': [(1449, 1)], 'awk': [(1456, 1)], 'asgard': [(1460, 1)], 'program': [(1461, 1)], 'assault': [(1466, 1), (2284, 1)], 'álfheimr': [(1478, 1)], 'ask': [(1482, 1)], 'embla': [(1482, 1)], 'lille': [(1485, 1)], 'alemanni': [(1486, 1)], 'nyse': [(1488, 1)], 'russel': [(1494, 1)], 'wallace': [(1494, 1)], 'australian': [(1495, 1), (1897, 1), (1943, 1), (1944, 1), (2403, 1)], 'labor': [(1495, 1)], 'party': [(1495, 1)], 'dodo': [(1500, 1)], \"alice's\": [(1500, 1)], 'adventures': [(1500, 1)], 'wonderland': [(1500, 1)], 'lory': [(1501, 1)], 'iii': [(1507, 1), (1529, 1), (1546, 1), (1592, 1), (1596, 1), (1604, 1), (1616, 1), (1659, 1), (1683, 1), (1692, 1), (1730, 1), (1760, 1), (2117, 1)], 'alcibiades': [(1508, 1)], 'margrave': [(1508, 1)], 'brandenburg-kulmbach': [(1508, 1)], 'bear': [(1509, 1)], 'brandenburg': [(1513, 1)], 'duke': [(1514, 1)], 'prussia': [(1514, 1)], 'aachen': [(1520, 1)], 'agate': [(1523, 1)], 'aspirin': [(1525, 1)], 'ahmed': [(1527, 1), (1528, 1), (1529, 1)], 'ainu': [(1530, 1)], 'acropolis': [(1536, 1), (2076, 1)], 'acupuncture': [(1537, 1)], 'adder': [(1538, 1)], 'aeneas': [(1540, 1)], 'amaranth': [(1542, 1)], 'agapanthus': [(1543, 1)], 'africanus': [(1543, 1)], 'agamemnon': [(1544, 1)], 'aga': [(1545, 1), (1546, 1)], 'khan': [(1545, 1), (1546, 1)], 'agasias': [(1547, 1)], 'agassiz': [(1548, 1)], 'agathon': [(1549, 1)], 'agesilaus': [(1550, 1)], 'agis': [(1551, 1)], 'agliardi': [(1552, 1)], 'agnes': [(1553, 1)], 'merania': [(1553, 1)], 'agrippina': [(1556, 1), (1557, 1)], 'elder': [(1556, 1)], 'younger': [(1557, 1)], 'chinese': [(1558, 1)], 'cuisine': [(1558, 1), (2175, 1), (2222, 1)], 'ahenobarbus': [(1559, 1)], 'ahmad': [(1560, 1), (2176, 1)], 'shah': [(1560, 1), (2176, 1)], 'durrani': [(1560, 1)], 'aikin': [(1563, 1)], 'ailanthus': [(1564, 1)], 'aimoin': [(1565, 1)], 'akkadian': [(1566, 1)], 'empire': [(1566, 1)], 'ajax': [(1567, 1), (1568, 1), (1569, 1), (2273, 1)], 'lesser': [(1567, 1)], 'alaric': [(1570, 1), (1571, 1)], 'albertus': [(1573, 1)], 'magnus': [(1573, 1)], 'alboin': [(1575, 1)], 'afonso': [(1576, 1), (1657, 1), (1658, 1), (1659, 1), (1660, 1), (1661, 1), (1662, 1)], 'albuquerque': [(1576, 1)], 'alcaeus': [(1577, 1)], 'mytilene': [(1577, 1)], 'alcamenes': [(1578, 1)], 'alcmene': [(1579, 1)], 'alcidamas': [(1580, 1)], 'aldine': [(1581, 1)], 'press': [(1581, 1)], 'ealdred': [(1583, 1)], 'archbishop': [(1583, 1), (2345, 1)], 'york': [(1583, 1)], 'epirus': [(1585, 1), (1588, 1)], 'balas': [(1586, 1)], 'pherae': [(1587, 1)], 'jagiellon': [(1589, 1)], 'russia': [(1592, 1), (1620, 1)], 'scotland': [(1593, 1), (1594, 1), (1596, 1)], 'serbia': [(1595, 1)], 'greece': [(1597, 1)], 'aphrodisias': [(1599, 1)], 'severus': [(1600, 1)], 'aetolus': [(1605, 1)], 'jannaeus': [(1606, 1)], 'alexandrists': [(1612, 1)], 'alexios': [(1613, 1), (1615, 1), (1616, 1), (1617, 1)], 'komnenos': [(1613, 1), (1615, 1), (1762, 1)], 'poet': [(1614, 1)], 'angelos': [(1616, 1)], 'doukas': [(1617, 1)], 'alexei': [(1620, 1)], 'petrovich': [(1620, 1)], 'tsarevich': [(1620, 1)], 'andrew': [(1623, 1), (1624, 1), (1755, 1), (1938, 1), (2027, 1), (2099, 1)], 'jackson': [(1623, 1)], 'johnson': [(1624, 1)], 'aleksandr': [(1625, 1)], 'solzhenitsyn': [(1625, 1)], 'antipope': [(1633, 1), (2238, 1), (2319, 1), (2340, 1)], 'aquaculture': [(1634, 1)], 'kolmogorov': [(1635, 1)], 'complexity': [(1635, 1)], 'hymn': [(1637, 1)], 'proserpine': [(1637, 1)], 'triumph': [(1638, 1)], 'alessandro': [(1642, 1), (1647, 1), (1923, 1), (2363, 1)], 'algardi': [(1642, 1)], 'alger': [(1643, 1)], 'liège': [(1643, 1)], 'algiers': [(1644, 1)], 'ibn': [(1645, 1)], 'al-haytham': [(1645, 1)], 'allori': [(1647, 1)], 'almoravid': [(1649, 1)], 'dynasty': [(1649, 1)], 'aloe': [(1650, 1)], 'alyattes': [(1652, 1)], 'lydia': [(1652, 1)], 'age': [(1653, 1)], 'consent': [(1653, 1)], 'alypius': [(1654, 1)], 'antioch': [(1654, 1)], 'amalasuintha': [(1655, 1)], 'amalric': [(1656, 1), (1870, 1), (1871, 1)], 'bena': [(1656, 1)], 'portugal': [(1657, 1), (1658, 1), (1659, 1), (1660, 1), (1661, 1), (1662, 1)], 'alphonso': [(1663, 1)], 'spain': [(1663, 1)], 'asturias': [(1664, 1)], 'amarasimha': [(1669, 1)], 'xii': [(1676, 1)], 'xiii': [(1677, 1)], 'battler': [(1679, 1)], 'amaryllis': [(1680, 1)], 'aragon': [(1683, 1), (1684, 1), (1686, 1)], 'amasis': [(1685, 1)], 'amathus': [(1687, 1)], 'alphons': [(1688, 1)], 'amati': [(1690, 1)], 'amazons': [(1695, 1)], 'ambergris': [(1697, 1)], 'ambiorix': [(1698, 1)], 'wilhelm': [(1700, 1)], 'ambros': [(1700, 1)], 'amazon': [(1701, 1)], 'beverley': [(1702, 1)], 'autpert': [(1714, 1)], 'abu': [(1715, 1), (2216, 1), (2360, 1)], 'bakr': [(1715, 1)], 'traversari': [(1716, 1)], 'ambrosians': [(1717, 1)], 'ambrosiaster': [(1718, 1)], 'ambrosius': [(1719, 1)], 'aurelianus': [(1719, 1)], 'ammon': [(1722, 1)], 'ammonius': [(1723, 1), (1724, 1)], 'hermiae': [(1723, 1)], 'saccas': [(1724, 1)], 'amphipolis': [(1727, 1)], 'amram': [(1728, 1)], 'amyntas': [(1729, 1), (1730, 1)], 'macedon': [(1729, 1), (1730, 1)], 'anacharsis': [(1732, 1)], 'anah': [(1734, 1)], 'ānanda': [(1735, 1)], 'anaxagoras': [(1737, 1)], 'anaxarchus': [(1738, 1)], 'ancyra': [(1740, 1)], 'planthopper': [(1740, 1)], 'anastasius': [(1742, 1), (1743, 1), (1747, 1)], 'anaximenes': [(1746, 1), (1748, 1)], 'lampsacus': [(1746, 1)], 'miletus': [(1748, 1)], 'ancus': [(1749, 1)], 'marcius': [(1749, 1)], 'andaman': [(1750, 1)], 'anderson': [(1751, 1)], 'mathematician': [(1751, 1)], 'andocides': [(1752, 1)], 'andrea': [(1754, 1), (1960, 1)], 'andreani': [(1754, 1)], 'hungary': [(1755, 1)], 'enquiry': [(1756, 1)], 'concerning': [(1756, 1)], 'human': [(1756, 1)], 'understanding': [(1756, 1)], 'longjumeau': [(1758, 1)], 'andriscus': [(1759, 1)], 'andronikos': [(1760, 1), (1761, 1), (1762, 1)], 'palaiologos': [(1760, 1), (1761, 1)], 'andronicus': [(1763, 1), (1764, 1), (1765, 1)], 'cyrrhus': [(1763, 1)], 'rhodes': [(1764, 1)], 'ammianus': [(1767, 1)], 'marcellinus': [(1767, 1)], 'arthritis': [(1776, 1)], 'acetylene': [(1778, 1)], 'numerals': [(1786, 1)], 'abm': [(1788, 1)], 'apuleius': [(1789, 1)], 'selkirk': [(1790, 1)], 'anti-ballistic': [(1791, 1)], 'missile': [(1791, 1)], 'acre': [(1797, 1)], 'atp': [(1799, 1)], 'adenosine': [(1800, 1)], 'triphosphate': [(1800, 1)], 'ægir': [(1802, 1)], 'antibiotic': [(1805, 1)], 'arnold': [(1806, 1)], 'schwarzenegger': [(1806, 1)], 'actium': [(1810, 1)], 'amway': [(1812, 1)], 'adam': [(1814, 1), (2077, 1)], 'smith': [(1814, 1)], 'antoine': [(1822, 1)], 'lavoisier': [(1822, 1)], 'hermann': [(1825, 1)], 'kolbe': [(1825, 1)], 'amitabh': [(1828, 1)], 'bachchan': [(1828, 1)], 'allomorph': [(1832, 1)], 'allophone': [(1834, 1)], 'affix': [(1835, 1)], 'allegory': [(1837, 1)], 'allotropy': [(1839, 1)], 'agathocles': [(1840, 1)], 'syracuse': [(1840, 1)], 'augustin-louis': [(1842, 1)], 'cauchy': [(1842, 1)], 'archimedes': [(1844, 1)], 'alternative': [(1845, 1)], 'medicine': [(1845, 1)], 'archimedean': [(1847, 1)], 'solid': [(1847, 1)], 'antiprism': [(1851, 1)], 'natural': [(1853, 1)], 'africa': [(1853, 1), (1854, 1), (1894, 1)], 'approval': [(1857, 1)], 'voting': [(1857, 1)], 'arizona': [(1859, 1), (2102, 1), (2129, 1)], 'state': [(1859, 1)], 'university': [(1859, 1), (2025, 1), (2236, 1)], 'astoria': [(1864, 1)], 'oregon': [(1864, 1)], 'alarums': [(1866, 1)], 'excursions': [(1866, 1)], 'jarry': [(1869, 1)], 'jerusalem': [(1871, 1)], 'aimery': [(1872, 1)], 'cyprus': [(1872, 1)], 'anthemius': [(1873, 1)], 'tralles': [(1873, 1)], 'absalon': [(1874, 1)], 'adhemar': [(1875, 1)], 'puy': [(1875, 1)], 'alphonse': [(1878, 1)], 'count': [(1878, 1)], 'poitiers': [(1878, 1)], 'jordan': [(1879, 1)], 'ambroise': [(1880, 1)], 'deco': [(1881, 1)], 'alexius': [(1887, 1)], 'english': [(1890, 1), (1897, 1), (2011, 1)], 'spalding': [(1893, 1)], 'acquire': [(1896, 1)], 'airlines': [(1902, 1), (2386, 1)], 'flight': [(1902, 1)], 'ambush': [(1905, 1)], 'abzyme': [(1908, 1)], 'adaptive': [(1909, 1)], 'radiation': [(1909, 1)], 'agarose': [(1910, 1)], 'gel': [(1910, 1)], 'electrophoresis': [(1910, 1)], 'allele': [(1911, 1)], 'ampicillin': [(1912, 1)], 'annealing': [(1913, 1)], 'antimicrobial': [(1914, 1)], 'resistance': [(1914, 1)], 'antigen': [(1915, 1)], 'autosome': [(1916, 1)], 'antwerp': [(1919, 1)], 'aquila': [(1920, 1)], 'al-qaeda': [(1921, 1)], 'volta': [(1923, 1)], 'argo': [(1924, 1)], 'navis': [(1924, 1)], 'andromeda': [(1925, 1)], 'mythology': [(1925, 1)], 'antlia': [(1926, 1)], 'ara': [(1927, 1)], 'auriga': [(1928, 1)], 'arkansas': [(1930, 1)], 'atmosphere': [(1931, 1)], 'apus': [(1933, 1)], 'abadan': [(1934, 1)], 'iran': [(1934, 1)], 'attorney': [(1935, 1)], 'fleming': [(1937, 1)], 'carnegie': [(1938, 1)], 'approximant': [(1939, 1)], 'aeon': [(1941, 1)], 'airline': [(1942, 1)], 'democrats': [(1943, 1)], 'capital': [(1944, 1)], 'territory': [(1944, 1)], 'aotus': [(1947, 1)], 'ally': [(1948, 1)], 'mcbeal': [(1948, 1)], 'andreas': [(1949, 1), (2381, 1)], 'capellanus': [(1949, 1)], 'liberties': [(1950, 1)], 'union': [(1950, 1)], 'technique': [(1957, 1)], 'alciato': [(1960, 1)], 'apparent': [(1962, 1)], 'magnitude': [(1962, 1), (1963, 1)], 'ayckbourn': [(1975, 1)], 'centauri': [(1979, 1), (2215, 1)], 'amiga': [(1980, 1)], 'absorption': [(1985, 1)], 'actinophryid': [(1986, 1)], 'tasman': [(1988, 1)], 'angula': [(1991, 1)], 'asp': [(1994, 1)], 'geometry': [(1997, 1), (2202, 1)], 'texas': [(1998, 1)], 'morality': [(2003, 1)], 'asl': [(2004, 1)], 'auschwitz': [(2006, 1)], 'concentration': [(2006, 1)], 'camp': [(2006, 1)], 'archery': [(2007, 1)], 'alvar': [(2009, 1)], 'aalto': [(2009, 1)], 'comparison': [(2011, 1)], 'british': [(2011, 1)], 'semantics': [(2014, 1)], 'circumpolar': [(2015, 1)], 'current': [(2015, 1)], 'arbor': [(2017, 1), (2067, 1)], 'ayer': [(2018, 1)], 'weil': [(2019, 1)], 'achaeans': [(2020, 1)], 'homer': [(2020, 1)], 'atle': [(2021, 1)], 'selberg': [(2021, 1)], 'aeschylus': [(2023, 1)], 'road': [(2024, 1)], 'crandall': [(2025, 1)], 'wiles': [(2027, 1)], 'ambient': [(2028, 1)], 'anne': [(2029, 1)], 'brontë': [(2029, 1)], 'augustine': [(2030, 1)], 'hippo': [(2030, 1)], 'acting': [(2032, 1)], 'delian': [(2037, 1)], 'league': [(2037, 1), (2357, 1)], 'horch': [(2038, 1)], 'avionics': [(2039, 1)], 'ares': [(2041, 1)], 'grothendieck': [(2042, 1)], 'alcoholics': [(2047, 1)], 'anonymous': [(2047, 1)], 'compositing': [(2049, 1)], 'array': [(2052, 1)], 'data': [(2052, 1), (2349, 1)], 'structure': [(2052, 1)], 'advance': [(2053, 1)], 'australia': [(2053, 1)], 'fair': [(2053, 1)], 'automatic': [(2061, 1)], 'announcement': [(2061, 1)], 'circuit': [(2061, 1)], 'amerigo': [(2062, 1)], 'vespucci': [(2062, 1)], 'aristide': [(2063, 1)], 'maillol': [(2063, 1)], 'canova': [(2064, 1)], 'auguste': [(2065, 1), (2083, 1)], 'rodin': [(2065, 1)], 'ann': [(2067, 1), (2422, 1)], 'michigan': [(2067, 1), (2346, 1)], 'settlement': [(2070, 1)], '1701': [(2070, 1)], 'hijacking': [(2075, 1)], 'weishaupt': [(2077, 1)], 'acorn': [(2078, 1)], 'electron': [(2078, 1)], 'fire': [(2080, 1)], 'upon': [(2080, 1)], 'deep': [(2080, 1)], 'aeronautics': [(2082, 1)], 'louis': [(2083, 1)], 'lumière': [(2083, 1)], 'acts': [(2084, 1)], 'apostles': [(2084, 1)], 'assyria': [(2085, 1)], 'abijah': [(2086, 1)], 'ark': [(2087, 1), (2134, 1)], 'aphasia': [(2088, 1)], 'aorta': [(2089, 1)], 'abimelech': [(2093, 1)], 'tridgell': [(2099, 1)], 'applesoft': [(2100, 1)], 'basic': [(2100, 1)], 'asterix': [(2101, 1)], 'cardinals': [(2102, 1)], 'atlanta': [(2103, 1), (2140, 1)], 'falcons': [(2103, 1)], 'heathenry': [(2104, 1)], 'ansible': [(2106, 1)], 'adalbert': [(2108, 1)], 'prague': [(2108, 1)], 'ælfheah': [(2110, 1)], 'canterbury': [(2110, 1), (2345, 1)], 'algebra': [(2112, 1)], 'regularity': [(2113, 1)], 'ibm': [(2114, 1)], 'aix': [(2114, 1)], 'appletalk': [(2115, 1)], 'series': [(2116, 1), (2139, 1)], 'avl': [(2118, 1)], 'tree': [(2118, 1)], 'aliphatic': [(2120, 1)], 'astrology': [(2122, 1)], 'abyssinia': [(2123, 1)], 'extension': [(2125, 1)], 'ani': [(2126, 1)], 'difranco': [(2126, 1)], 'arene': [(2127, 1)], 'diamondbacks': [(2129, 1)], 'aesthetics': [(2130, 1)], 'covenant': [(2134, 1)], 'angles': [(2136, 1)], 'aster': [(2137, 1)], 'ct-80': [(2137, 1)], 'wellesley': [(2138, 1)], 'lists': [(2139, 1)], 'animated': [(2139, 1)], 'television': [(2139, 1), (2393, 1)], 'braves': [(2140, 1)], 'atari': [(2141, 1), (2234, 1)], 'projects': [(2142, 1)], 'aaliyah': [(2144, 1)], 'armour': [(2147, 1)], 'armoured': [(2148, 1)], 'fighting': [(2148, 1)], 'vehicle': [(2148, 1)], 'anton': [(2151, 1), (2313, 1), (2447, 1)], 'drexler': [(2151, 1)], 'quiet': [(2152, 1)], 'western': [(2152, 1)], 'front': [(2152, 1)], 'african': [(2154, 1)], 'license': [(2161, 1)], 'afrikaans': [(2162, 1)], 'aeolus': [(2163, 1)], 'abc': [(2166, 1)], 'alford': [(2167, 1)], 'plea': [(2167, 1)], 'abcd': [(2170, 1)], 'anti-realism': [(2171, 1)], 'arsenal': [(2174, 1)], 'massoud': [(2176, 1)], 'atlantis': [(2178, 1)], 'autobiography': [(2179, 1)], 'arcadius': [(2180, 1)], 'arabs': [(2185, 1)], 'armadillo': [(2186, 1)], 'arab': [(2187, 1)], 'world': [(2187, 1)], 'arcology': [(2193, 1)], 'amstrad': [(2197, 1)], 'cpc': [(2197, 1)], 'abdulaziz': [(2198, 1)], 'al-omari': [(2198, 1)], 'aage': [(2201, 1)], 'bohr': [(2201, 1)], 'analytic': [(2202, 1)], 'angels': [(2207, 1)], 'arctic': [(2208, 1)], 'fox': [(2208, 1)], 'anglo-saxon': [(2209, 1)], 'folklore': [(2210, 1)], 'sid': [(2215, 1)], \"meier's\": [(2215, 1)], 'sayyaf': [(2216, 1)], 'armenian': [(2217, 1)], 'additive': [(2218, 1)], 'synthesis': [(2218, 1)], 'carrier': [(2219, 1)], 'apicomplexa': [(2221, 1)], 'argentine': [(2222, 1)], 'hominem': [(2226, 1)], 'ælle': [(2233, 1)], 'sussex': [(2233, 1)], 'afghan': [(2235, 1)], 'acadia': [(2236, 1)], 'steel-string': [(2237, 1)], 'guitar': [(2237, 1)], 'john': [(2238, 1)], 'xxiii': [(2238, 1)], 'salieri': [(2241, 1)], 'cobble': [(2244, 1)], 'hill': [(2244, 1), (2314, 1)], 'tunnel': [(2244, 1)], 'annapolis': [(2245, 1)], 'valley': [(2245, 1)], 'analgesic': [(2246, 1)], 'abiotic': [(2250, 1)], 'stress': [(2250, 1)], 'accusative': [(2251, 1)], 'case': [(2251, 1), (2333, 1)], 'apostolic': [(2257, 1)], 'succession': [(2257, 1)], 'ascorbic': [(2268, 1)], 'afc': [(2273, 1)], 'eddington': [(2274, 1)], 'korner': [(2282, 1)], 'gun': [(2284, 1)], 'tank': [(2286, 1)], 'destroyer': [(2286, 1)], 'armored': [(2287, 1)], 'car': [(2287, 1)], 'military': [(2287, 1)], 'self-propelled': [(2288, 1)], 'anti-aircraft': [(2288, 1)], 'weapon': [(2288, 1)], 'alkmaar': [(2289, 1)], 'adrenal': [(2296, 1)], 'gland': [(2296, 1)], 'a360media': [(2299, 1)], 'saint': [(2304, 1)], 'titus': [(2304, 1)], 'actinide': [(2308, 1)], 'miller': [(2310, 1)], 'diabelli': [(2313, 1)], 'anita': [(2314, 1)], 'audio': [(2316, 1), (2322, 1), (2429, 1)], 'file': [(2316, 1)], 'format': [(2316, 1)], 'victor': [(2319, 1)], 'processing': [(2322, 1)], \"amdahl's\": [(2323, 1)], 'ayahuasca': [(2328, 1)], 'leng': [(2329, 1)], 'abbe': [(2330, 1)], 'acn': [(2331, 1)], 'ablative': [(2333, 1)], 'adamic': [(2335, 1)], 'rise': [(2338, 1)], 'fall': [(2338, 1)], 'city': [(2338, 1)], 'mahagonny': [(2338, 1)], 'avery': [(2339, 1)], 'hopwood': [(2339, 1)], 'felix': [(2340, 1)], 'alkaloid': [(2341, 1)], 'adventism': [(2343, 1)], 'albion': [(2346, 1)], 'anointing': [(2348, 1)], 'sick': [(2348, 1)], 'type': [(2349, 1)], 'roma': [(2358, 1)], 'nidal': [(2360, 1)], 'organization': [(2360, 1)], 'antibody': [(2362, 1)], 'scarlatti': [(2363, 1)], 'aston': [(2369, 1)], 'martin': [(2369, 1)], 'pike': [(2371, 1)], 'alf': [(2372, 1)], 'tales': [(2372, 1)], 'abdul': [(2376, 1)], 'rashid': [(2376, 1)], 'dostum': [(2376, 1)], 'andhra': [(2377, 1)], 'pradesh': [(2377, 1)], 'accelerated': [(2380, 1)], 'graphics': [(2380, 1)], 'port': [(2380, 1)], 'aagesen': [(2381, 1)], 'aalen': [(2382, 1)], 'alois': [(2383, 1)], 'alzheimer': [(2383, 1)], 'aedile': [(2384, 1)], 'antidepressant': [(2388, 1)], 'auger': [(2389, 1)], 'effect': [(2389, 1)], 'akio': [(2391, 1)], 'morita': [(2391, 1)], 'anode': [(2392, 1)], 'adhesive': [(2396, 1)], 'anthony': [(2397, 1)], 'hopkins': [(2397, 1)], 'ardal': [(2398, 1)], \"o'hanlon\": [(2398, 1)], 'micro': [(2400, 1)], 'devices': [(2400, 1)], 'albrecht': [(2402, 1), (2421, 1), (2440, 1)], 'dürer': [(2402, 1)], 'rules': [(2403, 1)], 'aon': [(2405, 1)], 'company': [(2405, 1)], 'alban': [(2406, 1)], 'berg': [(2406, 1)], 'cappella': [(2411, 1)], 'arrangement': [(2414, 1)], 'athanasian': [(2416, 1)], 'creed': [(2416, 1)], 'alicante': [(2417, 1)], 'widdecombe': [(2422, 1)], 'aurangzeb': [(2425, 1)], 'alexandrine': [(2427, 1)], 'minute': [(2431, 1)], 'arc': [(2431, 1)], 'alberto': [(2433, 1)], 'giacometti': [(2433, 1)], 'anthem': [(2439, 1)], 'altdorfer': [(2440, 1)], 'house': [(2441, 1)], 'ascania': [(2441, 1)], 'acceleration': [(2443, 1)], 'conservation': [(2444, 1)], 'restoration': [(2444, 1)], 'cultural': [(2444, 1)], 'chekhov': [(2447, 1)], 'action': [(2448, 1)], 'hunger': [(2448, 1)], 'apoptosis': [(2457, 1)]}\n"
          ]
        }
      ],
      "source": [
        "import math\n",
        "\n",
        "# Create inverted index instance\n",
        "inverted = InvertedIndex()\n",
        "# Adding the posting locations dictionary to the inverted index\n",
        "#partition_func\n",
        "inverted.posting_locs = super_posting_locs\n",
        "inverted._posting_list = dict(postings.collect())\n",
        "##############################################################\n",
        "##### need to change filtered_doc_text_pairs to doc_text_pairs\n",
        "##### when testing the whole corpus\n",
        "##############################################################\n",
        "# inverted.doc_count = filtered_doc_text_pairs.count()\n",
        "# Add the token - df dictionary to the inverted index\n",
        "inverted.df = w2df_dict\n",
        "# Iterate through tokens_doc_pairs to compute TF-IDF for each token in each document\n",
        "# sum_len_of_all_docs = 0\n",
        "# for doc_id, words_in_doc in result_rdd.collect():\n",
        "#   sum_len_docs = 0\n",
        "#   sum_doc_tf_idf = 0\n",
        "#   for token, tf in words_in_doc:\n",
        "#     if inverted.df.get(token) is not None:\n",
        "#       df = inverted.df[token]\n",
        "#       idf = math.log(inverted.doc_count / df, 10)\n",
        "#       sum_len_docs += tf\n",
        "#       sum_doc_tf_idf += math.pow(tf*idf, 2)\n",
        "#   inverted.doc_tf_idf[doc_id] = math.sqrt(sum_doc_tf_idf)\n",
        "#   inverted.doc_len[doc_id] = sum_len_docs\n",
        "#   sum_len_of_all_docs += sum_len_docs\n",
        "# inverted.doc_len_avg = sum_len_of_all_docs / inverted.doc_count\n",
        "# write the global stats out\n",
        "inverted.write_index('.', 'index_Title')\n",
        "print(inverted._posting_list)"
      ]
    },
    {
      "cell_type": "code",
      "execution_count": null,
      "metadata": {
        "id": "j2_qt2IPkxqz"
      },
      "outputs": [],
      "source": [
        "TUPLE_SIZE = 6\n",
        "TF_MASK = 2 ** 16 - 1 # Masking the 16 low bits of an integer\n",
        "from contextlib import closing\n",
        "\n",
        "def read_posting_list(inverted, w):\n",
        "  with closing(MultiFileReader()) as reader:\n",
        "    locs = inverted.posting_locs[w]\n",
        "    b = reader.read(locs, inverted.df[w] * TUPLE_SIZE)\n",
        "    posting_list = []\n",
        "    for i in range(inverted.df[w]):\n",
        "      doc_id = int.from_bytes(b[i*TUPLE_SIZE:i*TUPLE_SIZE+4], 'big')\n",
        "      tf = int.from_bytes(b[i*TUPLE_SIZE+4:(i+1)*TUPLE_SIZE], 'big')\n",
        "      posting_list.append((doc_id, tf))\n",
        "    return posting_list"
      ]
    },
    {
      "cell_type": "code",
      "execution_count": null,
      "metadata": {
        "id": "pUUdHGbCOr3C"
      },
      "outputs": [],
      "source": [
        "pages_links = spark.read.parquet(path).limit(1000).select(\"id\", \"anchor_text\").rdd"
      ]
    },
    {
      "cell_type": "code",
      "execution_count": null,
      "metadata": {
        "id": "YFRogCnlHIGR"
      },
      "outputs": [],
      "source": [
        "def generate_graph(pages):\n",
        "  ''' Compute the directed graph generated by wiki links.\n",
        "  Parameters:\n",
        "  -----------\n",
        "      pages: RDD\n",
        "          An RDD where each row consists of one Wikipedia article with 'id' and\n",
        "          'anchor_text'.\n",
        "  Returns:\n",
        "  --------\n",
        "      edges: RDD\n",
        "          An RDD where each row represents an edge in the directed graph created by\n",
        "          the Wikipedia links. The first entry should be the source page id and the\n",
        "          second entry is the destination page id. No duplicates should be present.\n",
        "      vertices: RDD\n",
        "          An RDD where each row represents a vertex (node) in the directed graph\n",
        "          created by the Wikipedia links. No duplicates should be present.\n",
        "  '''\n",
        "  # Extract edges from pages\n",
        "  edges = pages.flatMap(extract_edges).distinct()\n",
        "\n",
        "  # Extract vertices from edges\n",
        "  vertices = edges.flatMap(lambda edge: ((edge[0],), (edge[1],))).distinct()\n",
        "\n",
        "  return edges, vertices\n",
        "\n",
        "def extract_edges(row):\n",
        "  ''' Extracts edges from a row of Wikipedia article with 'id' and 'anchor_text'.\n",
        "  Parameters:\n",
        "  -----------\n",
        "      row: tuple\n",
        "          A tuple representing a row of Wikipedia article with 'id' and 'anchor_text'.\n",
        "  Returns:\n",
        "  --------\n",
        "      edges: list\n",
        "          A list of tuples representing edges in the directed graph.\n",
        "  '''\n",
        "  edges = []\n",
        "  for anchor_text in row[1]:\n",
        "      edges.append((row[0], anchor_text[0]))\n",
        "  return edges"
      ]
    },
    {
      "cell_type": "code",
      "execution_count": null,
      "metadata": {
        "id": "ajIiUP8CCY51"
      },
      "outputs": [],
      "source": [
        "# test graph construction efficiency (10 points)\n",
        "t_start = time()\n",
        "# construct the graph for a small sample of (1000) pages\n",
        "edges, vertices = generate_graph(pages_links)\n",
        "# time the actual execution\n",
        "v_cnt, e_cnt = vertices.count(), edges.count()\n",
        "graph_const_time = time() - t_start\n",
        "# test that the implementation is efficient (<20 seconds)\n",
        "assert graph_const_time < 20"
      ]
    },
    {
      "cell_type": "code",
      "execution_count": null,
      "metadata": {
        "id": "tb6ainuknU6z"
      },
      "outputs": [],
      "source": [
        "# test that we get the right number of vertices (5 points)\n",
        "assert v_cnt == 114966"
      ]
    },
    {
      "cell_type": "code",
      "execution_count": null,
      "metadata": {
        "id": "ruKfLiFXnqcY"
      },
      "outputs": [],
      "source": [
        "# test that we get the right number of edges (5 points)\n",
        "assert e_cnt == 183727"
      ]
    },
    {
      "cell_type": "markdown",
      "metadata": {
        "id": "yAx3CmIqOcLn"
      },
      "source": [
        "Let's compute PageRank in a distributed fashion (using PySpark's GraphFrame package) and show the top 20 pages."
      ]
    },
    {
      "cell_type": "code",
      "execution_count": null,
      "metadata": {
        "id": "XQl-tJSFNV_g"
      },
      "outputs": [],
      "source": [
        "edgesDF = edges.toDF(['src', 'dst']).repartition(4, 'src')\n",
        "verticesDF = vertices.toDF(['id']).repartition(4, 'id')\n",
        "g = GraphFrame(verticesDF, edgesDF)\n",
        "pr_results = g.pageRank(resetProbability=0.15, maxIter=10)\n",
        "pr = pr_results.vertices.select(\"id\", \"pagerank\")\n",
        "pr = pr.sort(col('pagerank').desc())\n",
        "pr.repartition(1).write.csv('pr', compression=\"gzip\")\n",
        "pr.show()"
      ]
    },
    {
      "cell_type": "markdown",
      "metadata": {
        "id": "x0iXbQIstzvW"
      },
      "source": [
        "**YOUR TASK (5 POINTS)**: Complete the implmentation of `get_top_pr_page_titles` to return the titles a few of the top pages as ranked by PageRank and printed above. To get the title for each page id listed above, navigate to the url https://en.wikipedia.org/?curid=wiki_id_here by replacing the `wiki_id_here` part with the page id. For example, if you navigate to https://en.wikipedia.org/?curid=25507 for the page with id 25507 you'd see that its title is 'Roman Empire'."
      ]
    },
    {
      "cell_type": "code",
      "execution_count": null,
      "metadata": {
        "id": "vhZVTSpnxQaj"
      },
      "outputs": [],
      "source": [
        "def get_top_pr_page_titles():\n",
        "  ''' Returns the title of the first, fourth, and fifth pages as ranked about\n",
        "      by PageRank.\n",
        "  Returns:\n",
        "  --------\n",
        "    list of three strings.\n",
        "  '''\n",
        "  page_titles = ['Catholic Church', 'Ancient Greek', 'Aristotle']\n",
        "  return page_titles"
      ]
    },
    {
      "cell_type": "code",
      "execution_count": null,
      "metadata": {
        "id": "nli6ETKzyPn6"
      },
      "outputs": [],
      "source": [
        "assert [_hash(x.lower()) for x in get_top_pr_page_titles()] == \\\n",
        "  ['52bb7dbc02', '3e920ea944', '3d007b19ee']"
      ]
    },
    {
      "cell_type": "markdown",
      "metadata": {
        "id": "d4V85PGkP3We"
      },
      "source": [
        "Do the top ranked pages make sense to you? Why do you think these pages received such a high scores from PageRank?"
      ]
    },
    {
      "cell_type": "markdown",
      "metadata": {
        "id": "OkDnmqAur3Ph"
      },
      "source": [
        "# GCP\n",
        "\n",
        "The second part of the assignment involves running index creation in GCP and reporting results in this notebook. Follow [this](https://docs.google.com/document/d/1HTZVDMQ1gyeq8dlyzmomOkxjSo1Td76PsCGlFkQohps/edit?usp=sharing) step-by-step guide in order to set up your cluster environment on GCP so you can execute pyspark code on a cluster of machines."
      ]
    },
    {
      "cell_type": "markdown",
      "metadata": {
        "id": "Tq-ilXaFLFVh"
      },
      "source": [
        "The code to the GCP notebook is in the moodle under assignment 3. You will have to copy the code you completed here in the relevant sections.\n",
        "\n",
        "In the current notebook we used MapReduce to create the index for only one wiki dump. Using GCP, we will be able to create the index on the entire english wikipedia. The GCP part of this assignment will be the first time we will work with the entire corpus. You will need to follow the notebook, complete the code as you did here (the same code you completed in this notebook can be used in the GCP notebook).\n",
        "At the end of the GCP assignment you will have questions that you will need to answer - this are not the tests we used so far, so you should follow the instructions in the notebook."
      ]
    }
  ],
  "metadata": {
    "colab": {
      "provenance": []
    },
    "kernelspec": {
      "display_name": "Python 3",
      "language": "python",
      "name": "python3"
    },
    "language_info": {
      "codemirror_mode": {
        "name": "ipython",
        "version": 3
      },
      "file_extension": ".py",
      "mimetype": "text/x-python",
      "name": "python",
      "nbconvert_exporter": "python",
      "pygments_lexer": "ipython3",
      "version": "3.7.6"
    }
  },
  "nbformat": 4,
  "nbformat_minor": 0
}