{
  "nbformat": 4,
  "nbformat_minor": 0,
  "metadata": {
    "colab": {
      "provenance": []
    },
    "kernelspec": {
      "name": "python3",
      "display_name": "Python 3"
    },
    "language_info": {
      "name": "python"
    }
  },
  "cells": [
    {
      "cell_type": "code",
      "source": [
        "# download nltk stopwords\n",
        "import nltk\n",
        "from nltk.corpus import wordnet\n",
        "nltk.download('stopwords')\n",
        "nltk.download('wordnet')\n"
      ],
      "metadata": {
        "id": "bCPDHP7zTQJZ",
        "colab": {
          "base_uri": "https://localhost:8080/"
        },
        "outputId": "0d8a90ce-ae34-41f5-8c51-35851e2ed008"
      },
      "execution_count": 2,
      "outputs": [
        {
          "output_type": "stream",
          "name": "stderr",
          "text": [
            "[nltk_data] Downloading package stopwords to /root/nltk_data...\n",
            "[nltk_data]   Package stopwords is already up-to-date!\n",
            "[nltk_data] Downloading package wordnet to /root/nltk_data...\n",
            "[nltk_data]   Package wordnet is already up-to-date!\n"
          ]
        },
        {
          "output_type": "execute_result",
          "data": {
            "text/plain": [
              "True"
            ]
          },
          "metadata": {},
          "execution_count": 2
        }
      ]
    },
    {
      "cell_type": "code",
      "source": [
        "\n",
        "import re\n",
        "from nltk.corpus import wordnet\n",
        "\n",
        "# Define your regular expression pattern\n",
        "RE_WORD = re.compile(r\"\\b[\\w'-]{2,24}\\b\", re.UNICODE)\n",
        "\n",
        "def get_synonyms(word):\n",
        "    synonyms = []\n",
        "    for syn in wordnet.synsets(word):\n",
        "        for lemma in syn.lemmas():\n",
        "            # Get the normalized form of the word from the lemma\n",
        "            normalized_word = lemma.name().lower()\n",
        "            # Check if the word contains any signs\n",
        "            if normalized_word.isalpha():\n",
        "                # Remove characters specified by the regular expression pattern\n",
        "                normalized_word = ' '.join(RE_WORD.findall(normalized_word))\n",
        "                if normalized_word:\n",
        "                    synonyms.append(normalized_word)\n",
        "    return synonyms\n",
        "\n",
        "\n"
      ],
      "metadata": {
        "colab": {
          "base_uri": "https://localhost:8080/"
        },
        "id": "wxpmSNo22a6z",
        "outputId": "a7dd97bd-17d0-402c-91e4-ad093e422fb3"
      },
      "execution_count": 53,
      "outputs": [
        {
          "output_type": "execute_result",
          "data": {
            "text/plain": [
              "['genetics']"
            ]
          },
          "metadata": {},
          "execution_count": 53
        }
      ]
    },
    {
      "cell_type": "code",
      "source": [
        "# Install a particular version of `google-cloud-storage` because (oddly enough)\n",
        "# the  version on Colab and GCP is old. A dependency error below is okay.\n",
        "!pip install -q google-cloud-storage==1.43.0"
      ],
      "metadata": {
        "id": "lAt6KT8xOgHH"
      },
      "execution_count": 3,
      "outputs": []
    },
    {
      "cell_type": "code",
      "source": [
        "# authenticate below for Google Storage access as needed\n",
        "from google.colab import auth\n",
        "auth.authenticate_user()"
      ],
      "metadata": {
        "id": "-oKFly5jFLFn"
      },
      "execution_count": 4,
      "outputs": []
    },
    {
      "cell_type": "code",
      "source": [
        "!pip install pyngrok"
      ],
      "metadata": {
        "colab": {
          "base_uri": "https://localhost:8080/"
        },
        "id": "Aeoj64DuuGbx",
        "outputId": "bed04cd4-e378-4d2f-a36f-656a276eecb2"
      },
      "execution_count": 5,
      "outputs": [
        {
          "output_type": "stream",
          "name": "stdout",
          "text": [
            "Requirement already satisfied: pyngrok in /usr/local/lib/python3.10/dist-packages (7.1.3)\n",
            "Requirement already satisfied: PyYAML>=5.1 in /usr/local/lib/python3.10/dist-packages (from pyngrok) (6.0.1)\n"
          ]
        }
      ]
    },
    {
      "cell_type": "code",
      "source": [
        "# TODO: sign up for an ngrok account\n",
        "# then put your ngrok token below and execute\n",
        "from pyngrok import ngrok\n",
        "ngrok.set_auth_token(\"2cXd1YwtWlYn3kGKfj97UtzuCER_42NZiY3AoMj93W18LwJWp\")"
      ],
      "metadata": {
        "id": "3E0IJAHOuDG1"
      },
      "execution_count": 6,
      "outputs": []
    },
    {
      "cell_type": "code",
      "source": [],
      "metadata": {
        "id": "_wTO-Rj1Th6I"
      },
      "execution_count": 17,
      "outputs": []
    },
    {
      "cell_type": "markdown",
      "source": [
        "# Run the app"
      ],
      "metadata": {
        "id": "6dW0y91OVu5J"
      }
    },
    {
      "cell_type": "code",
      "source": [
        "# you need to upload your implementation of search_app.py\n",
        "import search_frontend as se\n",
        "import sim_calc"
      ],
      "metadata": {
        "id": "7opNkV6uRHIv"
      },
      "execution_count": 7,
      "outputs": []
    },
    {
      "cell_type": "code",
      "source": [
        "# uncomment the code below and execute to reload the module when you make\n",
        "# changes to search_frontend.py (after you upload again).\n",
        "import importlib\n",
        "importlib.reload(sim_calc)\n",
        "importlib.reload(se)\n"
      ],
      "metadata": {
        "id": "oTGXXYEXV5l8",
        "colab": {
          "base_uri": "https://localhost:8080/"
        },
        "outputId": "a8b0fe2f-e61a-4106-ff78-b353577db10d"
      },
      "execution_count": 17,
      "outputs": [
        {
          "output_type": "execute_result",
          "data": {
            "text/plain": [
              "<module 'search_frontend' from '/content/search_frontend.py'>"
            ]
          },
          "metadata": {},
          "execution_count": 17
        }
      ]
    },
    {
      "cell_type": "code",
      "source": [
        "public_url = ngrok.connect(\"5000\", bind_tls=False).public_url\n",
        "split_url = public_url.split(\"http://\")\n",
        "# Check if the split operation resulted in more than one part\n",
        "if len(split_url) > 1:\n",
        "    # Split the domain part by \".ngrok.io\" to extract the subdomain\n",
        "    subdomain = split_url[1].split(\".ngrok.io\")[0]\n",
        "    print(subdomain)\n",
        "print(f\" * ngrok tunnel \\\"{public_url}\\\" -> \\\"http://127.0.0.1:5000\\\"\")\n",
        "# Update any base URLs to use the public ngrok URL\n",
        "se.app.config[\"BASE_URL\"] = public_url\n",
        "se.app.run()"
      ],
      "metadata": {
        "id": "J5n9u9rFP_wD",
        "colab": {
          "base_uri": "https://localhost:8080/"
        },
        "outputId": "664277bb-5c73-4267-c3e7-0b7873adc276"
      },
      "execution_count": 18,
      "outputs": [
        {
          "output_type": "stream",
          "name": "stdout",
          "text": [
            "8a8b-34-106-45-248.ngrok-free.app\n",
            " * ngrok tunnel \"http://8a8b-34-106-45-248.ngrok-free.app\" -> \"http://127.0.0.1:5000\"\n",
            " * Serving Flask app 'search_frontend'\n",
            " * Debug mode: off\n"
          ]
        },
        {
          "output_type": "stream",
          "name": "stderr",
          "text": [
            "INFO:werkzeug:\u001b[31m\u001b[1mWARNING: This is a development server. Do not use it in a production deployment. Use a production WSGI server instead.\u001b[0m\n",
            " * Running on http://127.0.0.1:5000\n",
            "INFO:werkzeug:\u001b[33mPress CTRL+C to quit\u001b[0m\n",
            "INFO:werkzeug:127.0.0.1 - - [02/Mar/2024 16:36:48] \"GET /search?query=genetics HTTP/1.1\" 200 -\n",
            "INFO:werkzeug:127.0.0.1 - - [02/Mar/2024 16:36:54] \"GET /search?query=Who+is+considered+the+\"Father+of+the+United+States\"? HTTP/1.1\" 200 -\n",
            "INFO:werkzeug:127.0.0.1 - - [02/Mar/2024 16:36:55] \"GET /search?query=economic HTTP/1.1\" 200 -\n",
            "INFO:werkzeug:127.0.0.1 - - [02/Mar/2024 16:36:58] \"GET /search?query=When+was+the+United+Nations+founded? HTTP/1.1\" 200 -\n",
            "INFO:werkzeug:127.0.0.1 - - [02/Mar/2024 16:37:00] \"GET /search?query=video+gaming HTTP/1.1\" 200 -\n",
            "INFO:werkzeug:127.0.0.1 - - [02/Mar/2024 16:37:02] \"GET /search?query=3D+printing+technology HTTP/1.1\" 200 -\n",
            "INFO:werkzeug:127.0.0.1 - - [02/Mar/2024 16:37:03] \"GET /search?query=Who+is+the+author+of+\"1984\"? HTTP/1.1\" 200 -\n",
            "INFO:werkzeug:127.0.0.1 - - [02/Mar/2024 16:37:04] \"GET /search?query=bioinformatics HTTP/1.1\" 200 -\n",
            "INFO:werkzeug:127.0.0.1 - - [02/Mar/2024 16:37:10] \"GET /search?query=Who+is+known+for+proposing+the+heliocentric+model+of+the+solar+system? HTTP/1.1\" 200 -\n",
            "INFO:werkzeug:127.0.0.1 - - [02/Mar/2024 16:37:16] \"GET /search?query=Describe+the+process+of+water+erosion. HTTP/1.1\" 200 -\n",
            "INFO:werkzeug:127.0.0.1 - - [02/Mar/2024 16:37:18] \"GET /search?query=When+was+the+Berlin+Wall+constructed? HTTP/1.1\" 200 -\n",
            "INFO:werkzeug:127.0.0.1 - - [02/Mar/2024 16:37:21] \"GET /search?query=What+is+the+meaning+of+the+term+\"Habeas+Corpus\"? HTTP/1.1\" 200 -\n",
            "INFO:werkzeug:127.0.0.1 - - [02/Mar/2024 16:37:22] \"GET /search?query=telecommunications HTTP/1.1\" 200 -\n",
            "INFO:werkzeug:127.0.0.1 - - [02/Mar/2024 16:37:24] \"GET /search?query=internet HTTP/1.1\" 200 -\n",
            "INFO:werkzeug:127.0.0.1 - - [02/Mar/2024 16:37:26] \"GET /search?query=What+are+the+characteristics+of+a+chemical+element? HTTP/1.1\" 200 -\n",
            "INFO:werkzeug:127.0.0.1 - - [02/Mar/2024 16:37:29] \"GET /search?query=Describe+the+structure+of+a+plant+cell. HTTP/1.1\" 200 -\n",
            "INFO:werkzeug:127.0.0.1 - - [02/Mar/2024 16:37:31] \"GET /search?query=Who+painted+\"Starry+Night\"? HTTP/1.1\" 200 -\n",
            "INFO:werkzeug:127.0.0.1 - - [02/Mar/2024 16:37:32] \"GET /search?query=computer HTTP/1.1\" 200 -\n",
            "INFO:werkzeug:127.0.0.1 - - [02/Mar/2024 16:37:34] \"GET /search?query=What+is+the+structure+of+the+Earth's+layers? HTTP/1.1\" 200 -\n",
            "INFO:werkzeug:127.0.0.1 - - [02/Mar/2024 16:37:38] \"GET /search?query=When+did+World+War+II+end? HTTP/1.1\" 200 -\n",
            "INFO:werkzeug:127.0.0.1 - - [02/Mar/2024 16:37:42] \"GET /search?query=When+was+the+Gutenberg+printing+press+invented? HTTP/1.1\" 200 -\n",
            "INFO:werkzeug:127.0.0.1 - - [02/Mar/2024 16:37:43] \"GET /search?query=medicine HTTP/1.1\" 200 -\n",
            "INFO:werkzeug:127.0.0.1 - - [02/Mar/2024 16:37:45] \"GET /search?query=Describe+the+water+cycle. HTTP/1.1\" 200 -\n",
            "INFO:werkzeug:127.0.0.1 - - [02/Mar/2024 16:37:46] \"GET /search?query=artificial+intelligence HTTP/1.1\" 200 -\n",
            "INFO:werkzeug:127.0.0.1 - - [02/Mar/2024 16:37:47] \"GET /search?query=physics HTTP/1.1\" 200 -\n",
            "INFO:werkzeug:127.0.0.1 - - [02/Mar/2024 16:37:47] \"GET /search?query=nanotechnology HTTP/1.1\" 200 -\n",
            "INFO:werkzeug:127.0.0.1 - - [02/Mar/2024 16:37:51] \"GET /search?query=When+did+the+Black+Death+pandemic+occur? HTTP/1.1\" 200 -\n",
            "INFO:werkzeug:127.0.0.1 - - [02/Mar/2024 16:37:51] \"GET /search?query=neuroscience HTTP/1.1\" 200 -\n",
            "INFO:werkzeug:127.0.0.1 - - [02/Mar/2024 16:37:52] \"GET /search?query=snowboard HTTP/1.1\" 200 -\n",
            "INFO:werkzeug:127.0.0.1 - - [02/Mar/2024 16:37:54] \"GET /search?query=Who+is+the+founder+of+modern+psychology? HTTP/1.1\" 200 -\n",
            "INFO:werkzeug:127.0.0.1 - - [02/Mar/2024 16:40:18] \"GET /search?query=genetics HTTP/1.1\" 200 -\n",
            "INFO:werkzeug:127.0.0.1 - - [02/Mar/2024 16:40:24] \"GET /search?query=Who+is+considered+the+\"Father+of+the+United+States\"? HTTP/1.1\" 200 -\n",
            "INFO:werkzeug:127.0.0.1 - - [02/Mar/2024 16:40:24] \"GET /search?query=economic HTTP/1.1\" 200 -\n",
            "INFO:werkzeug:127.0.0.1 - - [02/Mar/2024 16:40:28] \"GET /search?query=When+was+the+United+Nations+founded? HTTP/1.1\" 200 -\n",
            "INFO:werkzeug:127.0.0.1 - - [02/Mar/2024 16:40:30] \"GET /search?query=video+gaming HTTP/1.1\" 200 -\n",
            "INFO:werkzeug:127.0.0.1 - - [02/Mar/2024 16:40:32] \"GET /search?query=3D+printing+technology HTTP/1.1\" 200 -\n",
            "INFO:werkzeug:127.0.0.1 - - [02/Mar/2024 16:40:33] \"GET /search?query=Who+is+the+author+of+\"1984\"? HTTP/1.1\" 200 -\n",
            "INFO:werkzeug:127.0.0.1 - - [02/Mar/2024 16:46:09] \"GET /search?query=genetics HTTP/1.1\" 200 -\n",
            "INFO:werkzeug:127.0.0.1 - - [02/Mar/2024 16:46:15] \"GET /search?query=Who+is+considered+the+\"Father+of+the+United+States\"? HTTP/1.1\" 200 -\n",
            "INFO:werkzeug:127.0.0.1 - - [02/Mar/2024 16:46:15] \"GET /search?query=economic HTTP/1.1\" 200 -\n",
            "INFO:werkzeug:127.0.0.1 - - [02/Mar/2024 16:46:19] \"GET /search?query=When+was+the+United+Nations+founded? HTTP/1.1\" 200 -\n",
            "INFO:werkzeug:127.0.0.1 - - [02/Mar/2024 16:46:21] \"GET /search?query=video+gaming HTTP/1.1\" 200 -\n",
            "INFO:werkzeug:127.0.0.1 - - [02/Mar/2024 16:46:22] \"GET /search?query=3D+printing+technology HTTP/1.1\" 200 -\n",
            "INFO:werkzeug:127.0.0.1 - - [02/Mar/2024 16:46:24] \"GET /search?query=Who+is+the+author+of+\"1984\"? HTTP/1.1\" 200 -\n",
            "INFO:werkzeug:127.0.0.1 - - [02/Mar/2024 16:46:24] \"GET /search?query=bioinformatics HTTP/1.1\" 200 -\n",
            "INFO:werkzeug:127.0.0.1 - - [02/Mar/2024 16:46:31] \"GET /search?query=Who+is+known+for+proposing+the+heliocentric+model+of+the+solar+system? HTTP/1.1\" 200 -\n",
            "INFO:werkzeug:127.0.0.1 - - [02/Mar/2024 16:46:36] \"GET /search?query=Describe+the+process+of+water+erosion. HTTP/1.1\" 200 -\n",
            "INFO:werkzeug:127.0.0.1 - - [02/Mar/2024 16:46:53] \"GET /search?query=genetics HTTP/1.1\" 200 -\n"
          ]
        }
      ]
    },
    {
      "cell_type": "markdown",
      "source": [
        "# Testing your app\n",
        "\n",
        "Once your app is running you can query it. You can simply do that by navigating to the URL that ngrok gave you above or through code in a different python session. For example, once the frontend app is running, you can navigate to:\n",
        "http://YOUR_SERVER_DOMAIN/search?query=hello+world where YOUR_SERVER_DOMAIN is something like XXXX-XX-XX-XX-XX.ngrok.io, which is printed above in Colab or that is your external IP on GCP.\n",
        "\n",
        "The code below shows how to issue a query from python. This is also how our testing code will issue queries to your search engine, so make sure to test your search engine this way after you deploy it to GCP and before submission. Command line instructions for deploying your search engine to GCP are available at `run_frontend_in_gcp.sh`. Note that we will not only issue training queries to your search engine, but also test queries, i.e. queries that you've never seen before."
      ],
      "metadata": {
        "id": "Na0MC_1nzDbi"
      }
    },
    {
      "cell_type": "code",
      "source": [
        "import json\n",
        "\n",
        "with open('queries_train.json', 'rt') as f:\n",
        "  queries = json.load(f)"
      ],
      "metadata": {
        "id": "EM5ePrRHojbG"
      },
      "execution_count": 21,
      "outputs": []
    },
    {
      "cell_type": "code",
      "source": [
        "def average_precision(true_list, predicted_list, k=40):\n",
        "    true_set = frozenset(true_list)\n",
        "    predicted_list = predicted_list[:k]\n",
        "    precisions = []\n",
        "    for i,doc_id in enumerate(predicted_list):\n",
        "        if doc_id in true_set:\n",
        "            prec = (len(precisions)+1) / (i+1)\n",
        "            precisions.append(prec)\n",
        "    if len(precisions) == 0:\n",
        "        return 0.0\n",
        "    return round(sum(precisions)/len(precisions),3)"
      ],
      "metadata": {
        "id": "gWimZWCOy3Ei"
      },
      "execution_count": 22,
      "outputs": []
    },
    {
      "cell_type": "code",
      "source": [
        "def precision_at_k(true_list, predicted_list, k):\n",
        "    true_set = frozenset(true_list)\n",
        "    predicted_list = predicted_list[:k]\n",
        "    if len(predicted_list) == 0:\n",
        "        return 0.0\n",
        "    return round(len([1 for doc_id in predicted_list if doc_id in true_set]) / len(predicted_list), 3)\n",
        "def recall_at_k(true_list, predicted_list, k):\n",
        "    true_set = frozenset(true_list)\n",
        "    predicted_list = predicted_list[:k]\n",
        "    if len(true_set) < 1:\n",
        "        return 1.0\n",
        "    return round(len([1 for doc_id in predicted_list if doc_id in true_set]) / len(true_set), 3)\n",
        "def f1_at_k(true_list, predicted_list, k):\n",
        "    p = precision_at_k(true_list, predicted_list, k)\n",
        "    r = recall_at_k(true_list, predicted_list, k)\n",
        "    if p == 0.0 or r == 0.0:\n",
        "        return 0.0\n",
        "    return round(2.0 / (1.0/p + 1.0/r), 3)\n",
        "def results_quality(true_list, predicted_list):\n",
        "    p5 = precision_at_k(true_list, predicted_list, 5)\n",
        "    f1_30 = f1_at_k(true_list, predicted_list, 30)\n",
        "    if p5 == 0.0 or f1_30 == 0.0:\n",
        "        return 0.0\n",
        "    return round(2.0 / (1.0/p5 + 1.0/f1_30), 3)\n",
        "\n",
        "assert precision_at_k(range(10), [1,2,3] , 2) == 1.0\n",
        "assert recall_at_k(   range(10), [10,5,3], 2) == 0.1\n",
        "assert precision_at_k(range(10), []      , 2) == 0.0\n",
        "assert precision_at_k([],        [1,2,3],  5) == 0.0\n",
        "assert recall_at_k(   [],        [10,5,3], 2) == 1.0\n",
        "assert recall_at_k(   range(10), [],       2) == 0.0\n",
        "assert f1_at_k(       [],        [1,2,3],  5) == 0.0\n",
        "assert f1_at_k(       range(10), [],       2) == 0.0\n",
        "assert f1_at_k(       range(10), [0,1,2],  2) == 0.333\n",
        "assert f1_at_k(       range(50), range(5), 30) == 0.182\n",
        "assert f1_at_k(       range(50), range(10), 30) == 0.333\n",
        "assert f1_at_k(       range(50), range(30), 30) == 0.75\n",
        "assert results_quality(range(50), range(5))  == 0.308\n",
        "assert results_quality(range(50), range(10)) == 0.5\n",
        "assert results_quality(range(50), range(30)) == 0.857\n",
        "assert results_quality(range(50), [-1]*5 + list(range(5,30))) == 0.0\n"
      ],
      "metadata": {
        "id": "geHKyFB4xkBe"
      },
      "execution_count": 23,
      "outputs": []
    },
    {
      "cell_type": "code",
      "source": [
        "import requests\n",
        "from time import time\n",
        "# url = 'http://35.232.59.3:8080'\n",
        "# place the domain you got from ngrok or GCP IP below.\n",
        "url = 'http://e300-35-196-67-125.ngrok-free.app'\n",
        "qs_res = []\n",
        "for q, true_wids in queries.items():\n",
        "  duration, ap = None, None\n",
        "  t_start = time()\n",
        "  try:\n",
        "    res = requests.get(url + '/search', {'query': q}, timeout=35)\n",
        "    duration = time() - t_start\n",
        "    if res.status_code == 200:\n",
        "      pred_wids, _ = zip(*res.json())\n",
        "      rq = results_quality(true_wids, pred_wids)\n",
        "  except:\n",
        "    pass\n",
        "\n",
        "  qs_res.append((q, duration, rq))"
      ],
      "metadata": {
        "id": "dYmNTq9u0ChK",
        "colab": {
          "base_uri": "https://localhost:8080/",
          "height": 176
        },
        "outputId": "47c0604d-f9bb-4a8e-9221-0b21f1c76baf"
      },
      "execution_count": 24,
      "outputs": [
        {
          "output_type": "error",
          "ename": "NameError",
          "evalue": "name 'rq' is not defined",
          "traceback": [
            "\u001b[0;31m---------------------------------------------------------------------------\u001b[0m",
            "\u001b[0;31mNameError\u001b[0m                                 Traceback (most recent call last)",
            "\u001b[0;32m<ipython-input-24-094b7752a76e>\u001b[0m in \u001b[0;36m<cell line: 7>\u001b[0;34m()\u001b[0m\n\u001b[1;32m     17\u001b[0m     \u001b[0;32mpass\u001b[0m\u001b[0;34m\u001b[0m\u001b[0;34m\u001b[0m\u001b[0m\n\u001b[1;32m     18\u001b[0m \u001b[0;34m\u001b[0m\u001b[0m\n\u001b[0;32m---> 19\u001b[0;31m   \u001b[0mqs_res\u001b[0m\u001b[0;34m.\u001b[0m\u001b[0mappend\u001b[0m\u001b[0;34m(\u001b[0m\u001b[0;34m(\u001b[0m\u001b[0mq\u001b[0m\u001b[0;34m,\u001b[0m \u001b[0mduration\u001b[0m\u001b[0;34m,\u001b[0m \u001b[0mrq\u001b[0m\u001b[0;34m)\u001b[0m\u001b[0;34m)\u001b[0m\u001b[0;34m\u001b[0m\u001b[0;34m\u001b[0m\u001b[0m\n\u001b[0m",
            "\u001b[0;31mNameError\u001b[0m: name 'rq' is not defined"
          ]
        }
      ]
    }
  ]
}